{
 "cells": [
  {
   "cell_type": "markdown",
   "id": "694423f5-9bd8-4c57-8550-1cfb200a0c42",
   "metadata": {},
   "source": [
    "## **code created by Murat Khidoyatov at Yale University**"
   ]
  },
  {
   "cell_type": "code",
   "execution_count": 45,
   "id": "7a79a4a3-6a6f-46fe-8c7d-a62a4b1d87a2",
   "metadata": {},
   "outputs": [],
   "source": [
    "import torch\n",
    "import torch.nn as nn\n",
    "import torch.optim as optim\n",
    "import numpy as np\n",
    "import matplotlib.pyplot as plt"
   ]
  },
  {
   "cell_type": "markdown",
   "id": "a8c053f5-f3bd-4a95-be15-5e970a4fabda",
   "metadata": {},
   "source": [
    "# **Define a function for the variable coefficients, which can depend on x, y, and their derivatives**"
   ]
  },
  {
   "attachments": {
    "206985be-f211-42c1-a95f-b4cc9e78e926.png": {
     "image/png": "[encoded data removed]"
    }
   },
   "cell_type": "markdown",
   "id": "a6bdb706-8d5c-4b9a-97ea-aeaf050686eb",
   "metadata": {},
   "source": [
    "![Screenshot 2024-10-15 at 10.11.30 PM.png](attachment:206985be-f211-42c1-a95f-b4cc9e78e926.png)"
   ]
  },
  {
   "cell_type": "code",
   "execution_count": 46,
   "id": "da4beb13-e546-423a-9343-854bc9559ee0",
   "metadata": {},
   "outputs": [],
   "source": [
    "def a_x(x, y, dy_dx): \n",
    "    return x**2  # This can be changed to any function of x, y, or dy_dx. Change as needed "
   ]
  },
  {
   "cell_type": "markdown",
   "id": "cac0b066-a9bb-4abd-a0c6-0ef3013c73ac",
   "metadata": {},
   "source": [
    "**Always use torch for the math functions instead of the numpy**"
   ]
  },
  {
   "cell_type": "code",
   "execution_count": 47,
   "id": "f88e21a3-9366-4647-a99d-fd659fc9aac2",
   "metadata": {},
   "outputs": [],
   "source": [
    "def p_x(x, y, dy_dx):\n",
    "    return x  # Example: Can be x, y, or some nonlinear function. Change as needed "
   ]
  },
  {
   "cell_type": "markdown",
   "id": "c2cf7af1-eaea-4e68-a2d1-0015e1806235",
   "metadata": {},
   "source": [
    "*or you can just pass down **return np.sin(y)** if your coefficient for y' is sin(y)*"
   ]
  },
  {
   "cell_type": "code",
   "execution_count": 48,
   "id": "799f21f8-14b2-4f45-a55a-729707340f83",
   "metadata": {},
   "outputs": [],
   "source": [
    "def q_x(x, y, dy_dx):\n",
    "    return -x  # Example: Can be x, y, or some nonlinear function.  Change as needed "
   ]
  },
  {
   "cell_type": "markdown",
   "id": "100227db-db29-47a9-867e-f7a3d5bc01fc",
   "metadata": {},
   "source": [
    "# **Apply Boundary Conditions**"
   ]
  },
  {
   "cell_type": "code",
   "execution_count": 49,
   "id": "9a0919f9-29fb-4465-83af-b6995ddd4d21",
   "metadata": {},
   "outputs": [],
   "source": [
    "x_range = (0.1, 10)  # Range for x\n",
    "initial_conditions = [\n",
    "    {'type': 'y', 'value': 2.0, 'x': 1.0},    # y(0) = 0\n",
    "    {'type': 'y\\'', 'value': 0.0, 'x': 1.0},  # y'(0) = 1\n",
    "    #{'type': 'y', 'value': 0.0, 'x': 2 * np.pi},  # y(2*pi) = 0\n",
    "    # Additional initial conditions can be added if needed\n",
    "    # {'type': 'y', 'value': ..., 'x': ...},\n",
    "    # {'type': 'y\\'', 'value': ..., 'x': ...}\n",
    "]\n"
   ]
  },
  {
   "cell_type": "markdown",
   "id": "6f768b65-c3d7-4678-bab9-86f42fd63fde",
   "metadata": {},
   "source": [
    "# **Learning rate and number of epochs**"
   ]
  },
  {
   "cell_type": "code",
   "execution_count": 50,
   "id": "65693a29-8575-42e0-a136-d2439bfd403a",
   "metadata": {},
   "outputs": [],
   "source": [
    "learning_rate = 0.001 \n",
    "num_epochs = 1000 "
   ]
  },
  {
   "cell_type": "markdown",
   "id": "32d67aab-9067-42c3-a521-2e3ba5f36444",
   "metadata": {},
   "source": [
    "# **Define the neural network structure**"
   ]
  },
  {
   "cell_type": "code",
   "execution_count": 51,
   "id": "7db6987b-70bb-4b9d-9316-b399070b2ab7",
   "metadata": {},
   "outputs": [],
   "source": [
    "class Network(nn.Module):\n",
    "    def __init__(self):\n",
    "        super(Network, self).__init__()\n",
    "        self.hidden_layer_1 = nn.Linear(1, 200)\n",
    "        self.hidden_layer_2 = nn.Linear(200, 200)\n",
    "        self.hidden_layer_3 = nn.Linear(200, 200)\n",
    "        self.output_layer = nn.Linear(200, 1)\n",
    "\n",
    "    def forward(self, x):\n",
    "        x = torch.sigmoid(self.hidden_layer_1(x))\n",
    "        x = torch.sigmoid(self.hidden_layer_2(x))\n",
    "        x = torch.sigmoid(self.hidden_layer_3(x))\n",
    "        x = self.output_layer(x)\n",
    "        return x"
   ]
  },
  {
   "cell_type": "markdown",
   "id": "fe74f8ff-a71a-4b18-ad8d-7d6bb04b5121",
   "metadata": {},
   "source": [
    "# **Define the ODE residual function to train NN model**"
   ]
  },
  {
   "cell_type": "code",
   "execution_count": 52,
   "id": "cfa244c9-5e14-41e7-8817-fb054ef1d2f5",
   "metadata": {},
   "outputs": [],
   "source": [
    "def f_ode(x, net):\n",
    "    y = net(x)  # Neural network approximation of y(x)\n",
    "    dy_dx = torch.autograd.grad(y, x, torch.ones_like(x), create_graph=True)[0]  # dy/dx\n",
    "    d2y_dx2 = torch.autograd.grad(dy_dx, x, torch.ones_like(x), create_graph=True)[0]  # d2y/dx2\n",
    "\n",
    "    # Variable coefficients (these can depend on x, y, dy/dx)\n",
    "    coeff_n_val = a_x(x, y, dy_dx)\n",
    "    coeff_1_val = p_x(x, y, dy_dx)\n",
    "    coeff_0_val = q_x(x, y, dy_dx)\n",
    "\n",
    "    # General form: coeff_n * y'' + coeff_1 * y' + coeff_0 * y = 0\n",
    "    ode_residual = coeff_n_val * d2y_dx2 + coeff_1_val * dy_dx + coeff_0_val * y\n",
    "    \n",
    "    return ode_residual"
   ]
  },
  {
   "cell_type": "markdown",
   "id": "fc8d4870-91a3-41a2-9a77-177ca42dddca",
   "metadata": {},
   "source": [
    "# **Apply boundary conditions to train NN model**"
   ]
  },
  {
   "cell_type": "markdown",
   "id": "f8e8fbeb-7cc3-4b89-896b-7d3a65341168",
   "metadata": {},
   "source": [
    "# **Apply boundary conditions to train NN model**"
   ]
  },
  {
   "cell_type": "code",
   "execution_count": 53,
   "id": "dd04d4cd-487c-477d-89b8-3b40b7c7fb91",
   "metadata": {},
   "outputs": [],
   "source": [
    "# Function to apply initial value conditions (IVP) for both y(x0), y(x1), and y'(x0) if needed\n",
    "def apply_initial_conditions(net, initial_conditions):\n",
    "    ivp_residuals = []\n",
    "    \n",
    "    for ivp in initial_conditions:\n",
    "        x_ivp = torch.tensor([[ivp['x']]], requires_grad=True)  # Boundary point at x = ivp['x']\n",
    "        y_ivp = net(x_ivp)  # Predict y(x_ivp)\n",
    "\n",
    "        if ivp['type'] == 'y':  # Apply condition for y(x)\n",
    "            ivp_residual = y_ivp - ivp['value']  # y(x) = given value\n",
    "        elif ivp['type'] == 'y\\'':  # Apply condition for y'(x)\n",
    "            dy_dx_ivp = torch.autograd.grad(y_ivp, x_ivp, torch.ones_like(x_ivp), create_graph=True)[0]  # y'(x)\n",
    "            ivp_residual = dy_dx_ivp - ivp['value']  # y'(x) = given value\n",
    "        \n",
    "        ivp_residuals.append(ivp_residual)\n",
    "    \n",
    "    return torch.sum(torch.stack([ivp**2 for ivp in ivp_residuals]))  # Sum of residuals squared"
   ]
  },
  {
   "cell_type": "markdown",
   "id": "026abd17-5ba4-4fc8-9f2e-87df51b434cf",
   "metadata": {},
   "source": [
    "# **Training the network**"
   ]
  },
  {
   "cell_type": "code",
   "execution_count": 54,
   "id": "e2570069-1948-47ad-84d8-e94d51165079",
   "metadata": {},
   "outputs": [],
   "source": [
    "def train(net, optimizer, x_range, initial_conditions, num_epochs):\n",
    "    x_min, x_max = x_range\n",
    "    for epoch in range(num_epochs):\n",
    "        optimizer.zero_grad()  # Reset gradients\n",
    "\n",
    "        # Sample points in the domain x\n",
    "        x = torch.linspace(x_min, x_max, 100).view(-1, 1)\n",
    "        x.requires_grad = True  # Enable gradient tracking for these inputs\n",
    "\n",
    "        # Compute the ODE residual\n",
    "        ode_residual = f_ode(x, net)\n",
    "\n",
    "        # Compute the initial value condition residuals\n",
    "        ivp_residual = apply_initial_conditions(net, initial_conditions)\n",
    "\n",
    "        # Define the loss as the sum of the ODE residuals and initial condition residuals\n",
    "        loss = torch.mean(ode_residual**2) + ivp_residual\n",
    "\n",
    "        # Perform backpropagation and optimization step\n",
    "        loss.backward()\n",
    "        optimizer.step()\n",
    "\n",
    "        # Print the loss every 10 epochs\n",
    "        if epoch % 10 == 0:\n",
    "            print(f'Epoch {epoch}, Loss: {loss.item()}')\n",
    "    # Calculate and display the final accuracy and loss after training\n",
    "    final_loss = loss.item()\n",
    "    accuracy = calculate_accuracy(net, initial_conditions)\n",
    "    print(f'\\nFinal Loss: {final_loss}')\n",
    "    print(f'Accuracy in % : {accuracy}')\n"
   ]
  },
  {
   "cell_type": "markdown",
   "id": "54da504a-027e-40a1-b198-4397949d07b6",
   "metadata": {},
   "source": [
    "> **function to calculate accuracy based on boundary conditions**"
   ]
  },
  {
   "cell_type": "code",
   "execution_count": 55,
   "id": "a7f3c587-ca0a-4f80-aa87-3dd13146564f",
   "metadata": {},
   "outputs": [],
   "source": [
    "def calculate_accuracy(net, initial_conditions):\n",
    "    total_error = 0.0\n",
    "    max_bc_value = max([abs(ic['value']) for ic in initial_conditions])\n",
    "    \n",
    "    # Prevent division by zero in case the maximum value of initial conditions is zero\n",
    "    if max_bc_value == 0:\n",
    "        max_bc_value = 1.0\n",
    "    \n",
    "    for ic in initial_conditions:\n",
    "        x_ic = torch.tensor([[ic['x']]], dtype=torch.float32, requires_grad=True)  # Ensure requires_grad=True\n",
    "        y_ic = net(x_ic)\n",
    "        \n",
    "        if ic['type'] == 'y':  # Compare predicted y(x) to the initial condition y(x_ic)\n",
    "            total_error += (y_ic.item() - ic['value'])**2\n",
    "        elif ic['type'] == 'y\\'':  # Compare predicted y'(x) to the initial condition y'(x_ic)\n",
    "            dy_dx_ic = torch.autograd.grad(y_ic, x_ic, torch.ones_like(x_ic), create_graph=True)[0]\n",
    "            total_error += (dy_dx_ic.item() - ic['value'])**2\n",
    "    \n",
    "    mse = total_error / len(initial_conditions)  # Mean squared error\n",
    "    accuracy_percentage = 100 - ((mse / max_bc_value) * 100)\n",
    "    \n",
    "    return accuracy_percentage"
   ]
  },
  {
   "cell_type": "markdown",
   "id": "7c70c975-13fd-469d-87f6-31c6bc35f610",
   "metadata": {},
   "source": [
    "> **Function to visualize the solution of the ODE learned by the NN**"
   ]
  },
  {
   "cell_type": "code",
   "execution_count": 56,
   "id": "12b5db94-69cc-4406-a7e0-7ca81397d44e",
   "metadata": {},
   "outputs": [],
   "source": [
    "def visualize_solution(net, x_range):\n",
    "    x_min, x_max = x_range\n",
    "    x_values = np.linspace(x_min, x_max, 100)\n",
    "    x_tensor = torch.tensor(x_values, dtype=torch.float32).view(-1, 1)\n",
    "    \n",
    "    y_pred = net(x_tensor).detach().numpy()\n",
    "    \n",
    "    # Plotting the predicted solution\n",
    "    plt.plot(x_values, y_pred, label=\"NN Solution\")\n",
    "    plt.xlabel(\"x\")\n",
    "    plt.ylabel(\"y(x)\")\n",
    "    plt.title(\"Solution of the ODE learned by the Neural Network\")\n",
    "    plt.legend()\n",
    "    plt.grid(True)\n",
    "    plt.show()"
   ]
  },
  {
   "cell_type": "markdown",
   "id": "b41f70f2-a227-4e94-89ee-8bd39697ddfa",
   "metadata": {},
   "source": [
    "# **Initialize and train the NN**"
   ]
  },
  {
   "cell_type": "code",
   "execution_count": 57,
   "id": "df9f63e1-ff8e-4a90-a2e9-e0a935e7293c",
   "metadata": {},
   "outputs": [],
   "source": [
    "# Initialize the network and optimizer\n",
    "net = Network()\n",
    "optimizer = optim.Adam(net.parameters(), lr=learning_rate)"
   ]
  },
  {
   "cell_type": "code",
   "execution_count": 58,
   "id": "4de4b415-5845-4614-867b-29a1ab37da00",
   "metadata": {},
   "outputs": [
    {
     "name": "stdout",
     "output_type": "stream",
     "text": [
      "Epoch 0, Loss: 4.385086536407471\n",
      "Epoch 10, Loss: 3.7254629135131836\n",
      "Epoch 20, Loss: 3.1454920768737793\n",
      "Epoch 30, Loss: 2.385692596435547\n",
      "Epoch 40, Loss: 1.8316550254821777\n",
      "Epoch 50, Loss: 1.664674162864685\n",
      "Epoch 60, Loss: 1.5140976905822754\n",
      "Epoch 70, Loss: 1.475966215133667\n",
      "Epoch 80, Loss: 1.4588110446929932\n",
      "Epoch 90, Loss: 1.4571971893310547\n",
      "Epoch 100, Loss: 1.4544143676757812\n",
      "Epoch 110, Loss: 1.4518625736236572\n",
      "Epoch 120, Loss: 1.4497215747833252\n",
      "Epoch 130, Loss: 1.4477287530899048\n",
      "Epoch 140, Loss: 1.4457039833068848\n",
      "Epoch 150, Loss: 1.4435908794403076\n",
      "Epoch 160, Loss: 1.4414048194885254\n",
      "Epoch 170, Loss: 1.4391192197799683\n",
      "Epoch 180, Loss: 1.4367115497589111\n",
      "Epoch 190, Loss: 1.4341542720794678\n",
      "Epoch 200, Loss: 1.4314143657684326\n",
      "Epoch 210, Loss: 1.4284542798995972\n",
      "Epoch 220, Loss: 1.4252320528030396\n",
      "Epoch 230, Loss: 1.4217027425765991\n",
      "Epoch 240, Loss: 1.4178249835968018\n",
      "Epoch 250, Loss: 1.4135677814483643\n",
      "Epoch 260, Loss: 1.4089235067367554\n",
      "Epoch 270, Loss: 1.403922438621521\n",
      "Epoch 280, Loss: 1.3986462354660034\n",
      "Epoch 290, Loss: 1.39323091506958\n",
      "Epoch 300, Loss: 1.387853741645813\n",
      "Epoch 310, Loss: 1.3826966285705566\n",
      "Epoch 320, Loss: 1.3778975009918213\n",
      "Epoch 330, Loss: 1.3735156059265137\n",
      "Epoch 340, Loss: 1.3695330619812012\n",
      "Epoch 350, Loss: 1.3658933639526367\n",
      "Epoch 360, Loss: 1.3625563383102417\n",
      "Epoch 370, Loss: 1.3595225811004639\n",
      "Epoch 380, Loss: 1.356801152229309\n",
      "Epoch 390, Loss: 1.354352593421936\n",
      "Epoch 400, Loss: 1.3520779609680176\n",
      "Epoch 410, Loss: 1.3498741388320923\n",
      "Epoch 420, Loss: 1.3477095365524292\n",
      "Epoch 430, Loss: 1.3456621170043945\n",
      "Epoch 440, Loss: 1.3438754081726074\n",
      "Epoch 450, Loss: 1.3424766063690186\n",
      "Epoch 460, Loss: 1.3415069580078125\n",
      "Epoch 470, Loss: 1.3408451080322266\n",
      "Epoch 480, Loss: 1.3403337001800537\n",
      "Epoch 490, Loss: 1.339868426322937\n",
      "Epoch 500, Loss: 1.339418888092041\n",
      "Epoch 510, Loss: 1.3389816284179688\n",
      "Epoch 520, Loss: 1.3385593891143799\n",
      "Epoch 530, Loss: 1.3381555080413818\n",
      "Epoch 540, Loss: 1.337773084640503\n",
      "Epoch 550, Loss: 1.337414264678955\n",
      "Epoch 560, Loss: 1.3370757102966309\n",
      "Epoch 570, Loss: 1.3367533683776855\n",
      "Epoch 580, Loss: 1.3364416360855103\n",
      "Epoch 590, Loss: 1.3361366987228394\n",
      "Epoch 600, Loss: 1.3358360528945923\n",
      "Epoch 610, Loss: 1.3355393409729004\n",
      "Epoch 620, Loss: 1.3352458477020264\n",
      "Epoch 630, Loss: 1.3349554538726807\n",
      "Epoch 640, Loss: 1.334668755531311\n",
      "Epoch 650, Loss: 1.3343853950500488\n",
      "Epoch 660, Loss: 1.3341048955917358\n",
      "Epoch 670, Loss: 1.3338273763656616\n",
      "Epoch 680, Loss: 1.3335521221160889\n",
      "Epoch 690, Loss: 1.333277702331543\n",
      "Epoch 700, Loss: 1.3330036401748657\n",
      "Epoch 710, Loss: 1.3327293395996094\n",
      "Epoch 720, Loss: 1.3324532508850098\n",
      "Epoch 730, Loss: 1.3321752548217773\n",
      "Epoch 740, Loss: 1.331892967224121\n",
      "Epoch 750, Loss: 1.3316054344177246\n",
      "Epoch 760, Loss: 1.33130943775177\n",
      "Epoch 770, Loss: 1.3310037851333618\n",
      "Epoch 780, Loss: 1.3306875228881836\n",
      "Epoch 790, Loss: 1.330362319946289\n",
      "Epoch 800, Loss: 1.3300292491912842\n",
      "Epoch 810, Loss: 1.3296926021575928\n",
      "Epoch 820, Loss: 1.3293516635894775\n",
      "Epoch 830, Loss: 1.329005479812622\n",
      "Epoch 840, Loss: 1.3286499977111816\n",
      "Epoch 850, Loss: 1.3282818794250488\n",
      "Epoch 860, Loss: 1.327897548675537\n",
      "Epoch 870, Loss: 1.3274955749511719\n",
      "Epoch 880, Loss: 1.3270779848098755\n",
      "Epoch 890, Loss: 1.3266487121582031\n",
      "Epoch 900, Loss: 1.3262090682983398\n",
      "Epoch 910, Loss: 1.325758695602417\n",
      "Epoch 920, Loss: 1.3252941370010376\n",
      "Epoch 930, Loss: 1.3248103857040405\n",
      "Epoch 940, Loss: 1.324303150177002\n",
      "Epoch 950, Loss: 1.3237690925598145\n",
      "Epoch 960, Loss: 1.3232040405273438\n",
      "Epoch 970, Loss: 1.3226072788238525\n",
      "Epoch 980, Loss: 1.3219804763793945\n",
      "Epoch 990, Loss: 1.3213272094726562\n",
      "\n",
      "Final Loss: 1.3207242488861084\n",
      "Accuracy in % : 84.62789177070178\n"
     ]
    }
   ],
   "source": [
    "# Train the network\n",
    "train(net, optimizer, x_range, initial_conditions, num_epochs)"
   ]
  },
  {
   "cell_type": "markdown",
   "id": "4d9e66d9-243d-4517-8eae-a2ce7c43b279",
   "metadata": {},
   "source": [
    "# **Visualize the solution of the NN** "
   ]
  },
  {
   "cell_type": "code",
   "execution_count": 59,
   "id": "373108c4-e8d2-40d7-b4e0-ac4f328f20ad",
   "metadata": {},
   "outputs": [
    {
     "data": {
      "image/png": "[encoded data removed]",
      "text/plain": [
       "<Figure size 640x480 with 1 Axes>"
      ]
     },
     "metadata": {},
     "output_type": "display_data"
    }
   ],
   "source": [
    "visualize_solution(net, x_range)"
   ]
  },
  {
   "cell_type": "code",
   "execution_count": null,
   "id": "5353e8b1-b65c-4195-8434-6e1a3e5d2818",
   "metadata": {},
   "outputs": [],
   "source": []
  }
 ],
 "metadata": {
  "kernelspec": {
   "display_name": "Python 3 (ipykernel)",
   "language": "python",
   "name": "python3"
  },
  "language_info": {
   "codemirror_mode": {
    "name": "ipython",
    "version": 3
   },
   "file_extension": ".py",
   "mimetype": "text/x-python",
   "name": "python",
   "nbconvert_exporter": "python",
   "pygments_lexer": "ipython3",
   "version": "3.12.3"
  }
 },
 "nbformat": 4,
 "nbformat_minor": 5
}
