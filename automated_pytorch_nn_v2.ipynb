{
 "cells": [
  {
   "cell_type": "markdown",
   "id": "694423f5-9bd8-4c57-8550-1cfb200a0c42",
   "metadata": {},
   "source": [
    "## **code created by Murat Khidoyatov at Yale University**"
   ]
  },
  {
   "cell_type": "code",
   "execution_count": 132,
   "id": "7a79a4a3-6a6f-46fe-8c7d-a62a4b1d87a2",
   "metadata": {},
   "outputs": [],
   "source": [
    "import torch\n",
    "import torch.nn as nn\n",
    "import torch.optim as optim\n",
    "import numpy as np\n",
    "import matplotlib.pyplot as plt"
   ]
  },
  {
   "cell_type": "markdown",
   "id": "a8c053f5-f3bd-4a95-be15-5e970a4fabda",
   "metadata": {},
   "source": [
    "# **Define a function for the variable coefficients, which can depend on x, y, and their derivatives**"
   ]
  },
  {
   "attachments": {
    "206985be-f211-42c1-a95f-b4cc9e78e926.png": {
     "image/png": "[encoded data removed]"
    }
   },
   "cell_type": "markdown",
   "id": "a6bdb706-8d5c-4b9a-97ea-aeaf050686eb",
   "metadata": {},
   "source": [
    "![Screenshot 2024-10-15 at 10.11.30 PM.png](attachment:206985be-f211-42c1-a95f-b4cc9e78e926.png)"
   ]
  },
  {
   "cell_type": "code",
   "execution_count": 133,
   "id": "da4beb13-e546-423a-9343-854bc9559ee0",
   "metadata": {},
   "outputs": [],
   "source": [
    "def a_x(x, y, dy_dx): \n",
    "    return x**2  # This can be changed to any function of x, y, or dy_dx. Change as needed "
   ]
  },
  {
   "cell_type": "markdown",
   "id": "cac0b066-a9bb-4abd-a0c6-0ef3013c73ac",
   "metadata": {},
   "source": [
    "**Always use torch for the math functions instead of the numpy**"
   ]
  },
  {
   "cell_type": "code",
   "execution_count": 134,
   "id": "f88e21a3-9366-4647-a99d-fd659fc9aac2",
   "metadata": {},
   "outputs": [],
   "source": [
    "def p_x(x, y, dy_dx):\n",
    "    return x  # Example: Can be x, y, or some nonlinear function. Change as needed "
   ]
  },
  {
   "cell_type": "markdown",
   "id": "c2cf7af1-eaea-4e68-a2d1-0015e1806235",
   "metadata": {},
   "source": [
    "*or you can just pass down **return np.sin(y)** if your coefficient for y' is sin(y)*"
   ]
  },
  {
   "cell_type": "code",
   "execution_count": 135,
   "id": "799f21f8-14b2-4f45-a55a-729707340f83",
   "metadata": {},
   "outputs": [],
   "source": [
    "def q_x(x, y, dy_dx):\n",
    "    return -x  # Example: Can be x, y, or some nonlinear function.  Change as needed "
   ]
  },
  {
   "cell_type": "markdown",
   "id": "100227db-db29-47a9-867e-f7a3d5bc01fc",
   "metadata": {},
   "source": [
    "# **Apply Boundary Conditions**"
   ]
  },
  {
   "cell_type": "code",
   "execution_count": 136,
   "id": "9a0919f9-29fb-4465-83af-b6995ddd4d21",
   "metadata": {},
   "outputs": [],
   "source": [
    "x_range = (0.1, 10)  # Range for x\n",
    "initial_conditions = [\n",
    "    {'type': 'y', 'value': 2.0, 'x': 1.0},    # y(0) = 0\n",
    "    {'type': 'y\\'', 'value': 0.0, 'x': 1.0},  # y'(0) = 1\n",
    "    #{'type': 'y', 'value': 0.0, 'x': 2 * np.pi},  # y(2*pi) = 0\n",
    "    # Additional initial conditions can be added if needed\n",
    "    # {'type': 'y', 'value': ..., 'x': ...},\n",
    "    # {'type': 'y\\'', 'value': ..., 'x': ...}\n",
    "]\n"
   ]
  },
  {
   "cell_type": "markdown",
   "id": "6f768b65-c3d7-4678-bab9-86f42fd63fde",
   "metadata": {},
   "source": [
    "# **Learning rate and number of epochs**"
   ]
  },
  {
   "cell_type": "code",
   "execution_count": 137,
   "id": "65693a29-8575-42e0-a136-d2439bfd403a",
   "metadata": {},
   "outputs": [],
   "source": [
    "learning_rate = 0.001 \n",
    "num_epochs = 1000 "
   ]
  },
  {
   "cell_type": "markdown",
   "id": "32d67aab-9067-42c3-a521-2e3ba5f36444",
   "metadata": {},
   "source": [
    "# **Define the neural network structure**"
   ]
  },
  {
   "cell_type": "code",
   "execution_count": 138,
   "id": "7db6987b-70bb-4b9d-9316-b399070b2ab7",
   "metadata": {},
   "outputs": [],
   "source": [
    "class Network(nn.Module):\n",
    "    def __init__(self):\n",
    "        super(Network, self).__init__()\n",
    "        self.hidden_layer_1 = nn.Linear(1, 200)\n",
    "        self.hidden_layer_2 = nn.Linear(200, 200)\n",
    "        self.hidden_layer_3 = nn.Linear(200, 200)\n",
    "        self.output_layer = nn.Linear(200, 1)\n",
    "\n",
    "    def forward(self, x):\n",
    "        x = torch.LeakyReLU(self.hidden_layer_1(x))\n",
    "        x = torch.LeakyReLU(self.hidden_layer_2(x))\n",
    "        x = torch.LeakyReLU(self.hidden_layer_3(x))\n",
    "        x = self.output_layer(x)\n",
    "        return x"
   ]
  },
  {
   "cell_type": "markdown",
   "id": "fe74f8ff-a71a-4b18-ad8d-7d6bb04b5121",
   "metadata": {},
   "source": [
    "# **Define the ODE residual function to train NN model**"
   ]
  },
  {
   "cell_type": "code",
   "execution_count": 139,
   "id": "cfa244c9-5e14-41e7-8817-fb054ef1d2f5",
   "metadata": {},
   "outputs": [],
   "source": [
    "def f_ode(x, net):\n",
    "    y = net(x)  # Neural network approximation of y(x)\n",
    "    dy_dx = torch.autograd.grad(y, x, torch.ones_like(x), create_graph=True)[0]  # dy/dx\n",
    "    d2y_dx2 = torch.autograd.grad(dy_dx, x, torch.ones_like(x), create_graph=True)[0]  # d2y/dx2\n",
    "\n",
    "    # Variable coefficients (these can depend on x, y, dy/dx)\n",
    "    coeff_n_val = a_x(x, y, dy_dx)\n",
    "    coeff_1_val = p_x(x, y, dy_dx)\n",
    "    coeff_0_val = q_x(x, y, dy_dx)\n",
    "\n",
    "    # General form: coeff_n * y'' + coeff_1 * y' + coeff_0 * y = 0\n",
    "    ode_residual = coeff_n_val * d2y_dx2 + coeff_1_val * dy_dx + coeff_0_val * y\n",
    "    \n",
    "    return ode_residual"
   ]
  },
  {
   "cell_type": "markdown",
   "id": "fc8d4870-91a3-41a2-9a77-177ca42dddca",
   "metadata": {},
   "source": [
    "# **Apply boundary conditions to train NN model**"
   ]
  },
  {
   "cell_type": "markdown",
   "id": "f8e8fbeb-7cc3-4b89-896b-7d3a65341168",
   "metadata": {},
   "source": [
    "# **Apply boundary conditions to train NN model**"
   ]
  },
  {
   "cell_type": "code",
   "execution_count": 140,
   "id": "dd04d4cd-487c-477d-89b8-3b40b7c7fb91",
   "metadata": {},
   "outputs": [],
   "source": [
    "# Function to apply initial value conditions (IVP) for both y(x0), y(x1), and y'(x0) if needed\n",
    "def apply_initial_conditions(net, initial_conditions):\n",
    "    ivp_residuals = []\n",
    "    \n",
    "    for ivp in initial_conditions:\n",
    "        x_ivp = torch.tensor([[ivp['x']]], requires_grad=True)  # Boundary point at x = ivp['x']\n",
    "        y_ivp = net(x_ivp)  # Predict y(x_ivp)\n",
    "\n",
    "        if ivp['type'] == 'y':  # Apply condition for y(x)\n",
    "            ivp_residual = y_ivp - ivp['value']  # y(x) = given value\n",
    "        elif ivp['type'] == 'y\\'':  # Apply condition for y'(x)\n",
    "            dy_dx_ivp = torch.autograd.grad(y_ivp, x_ivp, torch.ones_like(x_ivp), create_graph=True)[0]  # y'(x)\n",
    "            ivp_residual = dy_dx_ivp - ivp['value']  # y'(x) = given value\n",
    "        \n",
    "        ivp_residuals.append(ivp_residual)\n",
    "    \n",
    "    return torch.sum(torch.stack([ivp**2 for ivp in ivp_residuals]))  # Sum of residuals squared"
   ]
  },
  {
   "cell_type": "markdown",
   "id": "026abd17-5ba4-4fc8-9f2e-87df51b434cf",
   "metadata": {},
   "source": [
    "# **Training the network**"
   ]
  },
  {
   "cell_type": "code",
   "execution_count": 141,
   "id": "e2570069-1948-47ad-84d8-e94d51165079",
   "metadata": {},
   "outputs": [],
   "source": [
    "def train(net, optimizer, x_range, initial_conditions, num_epochs):\n",
    "    x_min, x_max = x_range\n",
    "    for epoch in range(num_epochs):\n",
    "        optimizer.zero_grad()  # Reset gradients\n",
    "\n",
    "        # Sample points in the domain x\n",
    "        x = torch.linspace(x_min, x_max, 100).view(-1, 1)\n",
    "        x.requires_grad = True  # Enable gradient tracking for these inputs\n",
    "\n",
    "        # Compute the ODE residual\n",
    "        ode_residual = f_ode(x, net)\n",
    "\n",
    "        # Compute the initial value condition residuals\n",
    "        ivp_residual = apply_initial_conditions(net, initial_conditions)\n",
    "\n",
    "        # Define the loss as the sum of the ODE residuals and initial condition residuals\n",
    "        loss = torch.mean(ode_residual**2) + ivp_residual\n",
    "\n",
    "        # Perform backpropagation and optimization step\n",
    "        loss.backward()\n",
    "        optimizer.step()\n",
    "\n",
    "        # Print the loss every 10 epochs\n",
    "        if epoch % 10 == 0:\n",
    "            print(f'Epoch {epoch}, Loss: {loss.item()}')\n",
    "    # Calculate and display the final accuracy and loss after training\n",
    "    final_loss = loss.item()\n",
    "    accuracy = calculate_accuracy(net, initial_conditions)\n",
    "    print(f'\\nFinal Loss: {final_loss}')\n",
    "    print(f'Accuracy in % : {accuracy}')\n"
   ]
  },
  {
   "cell_type": "markdown",
   "id": "54da504a-027e-40a1-b198-4397949d07b6",
   "metadata": {},
   "source": [
    "> **function to calculate accuracy based on boundary conditions**"
   ]
  },
  {
   "cell_type": "code",
   "execution_count": 142,
   "id": "a7f3c587-ca0a-4f80-aa87-3dd13146564f",
   "metadata": {},
   "outputs": [],
   "source": [
    "def calculate_accuracy(net, initial_conditions):\n",
    "    total_error = 0.0\n",
    "    max_bc_value = max([abs(ic['value']) for ic in initial_conditions])\n",
    "    \n",
    "    # Prevent division by zero in case the maximum value of initial conditions is zero\n",
    "    if max_bc_value == 0:\n",
    "        max_bc_value = 1.0\n",
    "    \n",
    "    for ic in initial_conditions:\n",
    "        x_ic = torch.tensor([[ic['x']]], dtype=torch.float32, requires_grad=True)  # Ensure requires_grad=True\n",
    "        y_ic = net(x_ic)\n",
    "        \n",
    "        if ic['type'] == 'y':  # Compare predicted y(x) to the initial condition y(x_ic)\n",
    "            total_error += (y_ic.item() - ic['value'])**2\n",
    "        elif ic['type'] == 'y\\'':  # Compare predicted y'(x) to the initial condition y'(x_ic)\n",
    "            dy_dx_ic = torch.autograd.grad(y_ic, x_ic, torch.ones_like(x_ic), create_graph=True)[0]\n",
    "            total_error += (dy_dx_ic.item() - ic['value'])**2\n",
    "    \n",
    "    mse = total_error / len(initial_conditions)  # Mean squared error\n",
    "    accuracy_percentage = 100 - ((mse / max_bc_value) * 100)\n",
    "    \n",
    "    return accuracy_percentage"
   ]
  },
  {
   "cell_type": "markdown",
   "id": "7c70c975-13fd-469d-87f6-31c6bc35f610",
   "metadata": {},
   "source": [
    "> **Function to visualize the solution of the ODE learned by the NN**"
   ]
  },
  {
   "cell_type": "code",
   "execution_count": 143,
   "id": "12b5db94-69cc-4406-a7e0-7ca81397d44e",
   "metadata": {},
   "outputs": [],
   "source": [
    "def visualize_solution(net, x_range):\n",
    "    x_min, x_max = x_range\n",
    "    x_values = np.linspace(x_min, x_max, 100)\n",
    "    x_tensor = torch.tensor(x_values, dtype=torch.float32).view(-1, 1)\n",
    "    \n",
    "    y_pred = net(x_tensor).detach().numpy()\n",
    "    \n",
    "    # Plotting the predicted solution\n",
    "    plt.plot(x_values, y_pred, label=\"NN Solution\")\n",
    "    plt.xlabel(\"x\")\n",
    "    plt.ylabel(\"y(x)\")\n",
    "    plt.title(\"Solution of the ODE learned by the Neural Network\")\n",
    "    plt.legend()\n",
    "    plt.grid(True)\n",
    "    plt.show()"
   ]
  },
  {
   "cell_type": "markdown",
   "id": "b41f70f2-a227-4e94-89ee-8bd39697ddfa",
   "metadata": {},
   "source": [
    "# **Initialize and train the NN**"
   ]
  },
  {
   "cell_type": "code",
   "execution_count": 144,
   "id": "df9f63e1-ff8e-4a90-a2e9-e0a935e7293c",
   "metadata": {},
   "outputs": [],
   "source": [
    "# Initialize the network and optimizer\n",
    "net = Network()\n",
    "optimizer = optim.Adam(net.parameters(), lr=learning_rate)"
   ]
  },
  {
   "cell_type": "code",
   "execution_count": 145,
   "id": "4de4b415-5845-4614-867b-29a1ab37da00",
   "metadata": {},
   "outputs": [
    {
     "ename": "AttributeError",
     "evalue": "module 'torch' has no attribute 'LeakyReLU'",
     "output_type": "error",
     "traceback": [
      "\u001b[0;31m---------------------------------------------------------------------------\u001b[0m",
      "\u001b[0;31mAttributeError\u001b[0m                            Traceback (most recent call last)",
      "Cell \u001b[0;32mIn[145], line 2\u001b[0m\n\u001b[1;32m      1\u001b[0m \u001b[38;5;66;03m# Train the network\u001b[39;00m\n\u001b[0;32m----> 2\u001b[0m \u001b[43mtrain\u001b[49m\u001b[43m(\u001b[49m\u001b[43mnet\u001b[49m\u001b[43m,\u001b[49m\u001b[43m \u001b[49m\u001b[43moptimizer\u001b[49m\u001b[43m,\u001b[49m\u001b[43m \u001b[49m\u001b[43mx_range\u001b[49m\u001b[43m,\u001b[49m\u001b[43m \u001b[49m\u001b[43minitial_conditions\u001b[49m\u001b[43m,\u001b[49m\u001b[43m \u001b[49m\u001b[43mnum_epochs\u001b[49m\u001b[43m)\u001b[49m\n",
      "Cell \u001b[0;32mIn[141], line 11\u001b[0m, in \u001b[0;36mtrain\u001b[0;34m(net, optimizer, x_range, initial_conditions, num_epochs)\u001b[0m\n\u001b[1;32m      8\u001b[0m x\u001b[38;5;241m.\u001b[39mrequires_grad \u001b[38;5;241m=\u001b[39m \u001b[38;5;28;01mTrue\u001b[39;00m  \u001b[38;5;66;03m# Enable gradient tracking for these inputs\u001b[39;00m\n\u001b[1;32m     10\u001b[0m \u001b[38;5;66;03m# Compute the ODE residual\u001b[39;00m\n\u001b[0;32m---> 11\u001b[0m ode_residual \u001b[38;5;241m=\u001b[39m \u001b[43mf_ode\u001b[49m\u001b[43m(\u001b[49m\u001b[43mx\u001b[49m\u001b[43m,\u001b[49m\u001b[43m \u001b[49m\u001b[43mnet\u001b[49m\u001b[43m)\u001b[49m\n\u001b[1;32m     13\u001b[0m \u001b[38;5;66;03m# Compute the initial value condition residuals\u001b[39;00m\n\u001b[1;32m     14\u001b[0m ivp_residual \u001b[38;5;241m=\u001b[39m apply_initial_conditions(net, initial_conditions)\n",
      "Cell \u001b[0;32mIn[139], line 2\u001b[0m, in \u001b[0;36mf_ode\u001b[0;34m(x, net)\u001b[0m\n\u001b[1;32m      1\u001b[0m \u001b[38;5;28;01mdef\u001b[39;00m \u001b[38;5;21mf_ode\u001b[39m(x, net):\n\u001b[0;32m----> 2\u001b[0m     y \u001b[38;5;241m=\u001b[39m \u001b[43mnet\u001b[49m\u001b[43m(\u001b[49m\u001b[43mx\u001b[49m\u001b[43m)\u001b[49m  \u001b[38;5;66;03m# Neural network approximation of y(x)\u001b[39;00m\n\u001b[1;32m      3\u001b[0m     dy_dx \u001b[38;5;241m=\u001b[39m torch\u001b[38;5;241m.\u001b[39mautograd\u001b[38;5;241m.\u001b[39mgrad(y, x, torch\u001b[38;5;241m.\u001b[39mones_like(x), create_graph\u001b[38;5;241m=\u001b[39m\u001b[38;5;28;01mTrue\u001b[39;00m)[\u001b[38;5;241m0\u001b[39m]  \u001b[38;5;66;03m# dy/dx\u001b[39;00m\n\u001b[1;32m      4\u001b[0m     d2y_dx2 \u001b[38;5;241m=\u001b[39m torch\u001b[38;5;241m.\u001b[39mautograd\u001b[38;5;241m.\u001b[39mgrad(dy_dx, x, torch\u001b[38;5;241m.\u001b[39mones_like(x), create_graph\u001b[38;5;241m=\u001b[39m\u001b[38;5;28;01mTrue\u001b[39;00m)[\u001b[38;5;241m0\u001b[39m]  \u001b[38;5;66;03m# d2y/dx2\u001b[39;00m\n",
      "File \u001b[0;32m/Library/Frameworks/Python.framework/Versions/3.12/lib/python3.12/site-packages/torch/nn/modules/module.py:1553\u001b[0m, in \u001b[0;36mModule._wrapped_call_impl\u001b[0;34m(self, *args, **kwargs)\u001b[0m\n\u001b[1;32m   1551\u001b[0m     \u001b[38;5;28;01mreturn\u001b[39;00m \u001b[38;5;28mself\u001b[39m\u001b[38;5;241m.\u001b[39m_compiled_call_impl(\u001b[38;5;241m*\u001b[39margs, \u001b[38;5;241m*\u001b[39m\u001b[38;5;241m*\u001b[39mkwargs)  \u001b[38;5;66;03m# type: ignore[misc]\u001b[39;00m\n\u001b[1;32m   1552\u001b[0m \u001b[38;5;28;01melse\u001b[39;00m:\n\u001b[0;32m-> 1553\u001b[0m     \u001b[38;5;28;01mreturn\u001b[39;00m \u001b[38;5;28;43mself\u001b[39;49m\u001b[38;5;241;43m.\u001b[39;49m\u001b[43m_call_impl\u001b[49m\u001b[43m(\u001b[49m\u001b[38;5;241;43m*\u001b[39;49m\u001b[43margs\u001b[49m\u001b[43m,\u001b[49m\u001b[43m \u001b[49m\u001b[38;5;241;43m*\u001b[39;49m\u001b[38;5;241;43m*\u001b[39;49m\u001b[43mkwargs\u001b[49m\u001b[43m)\u001b[49m\n",
      "File \u001b[0;32m/Library/Frameworks/Python.framework/Versions/3.12/lib/python3.12/site-packages/torch/nn/modules/module.py:1562\u001b[0m, in \u001b[0;36mModule._call_impl\u001b[0;34m(self, *args, **kwargs)\u001b[0m\n\u001b[1;32m   1557\u001b[0m \u001b[38;5;66;03m# If we don't have any hooks, we want to skip the rest of the logic in\u001b[39;00m\n\u001b[1;32m   1558\u001b[0m \u001b[38;5;66;03m# this function, and just call forward.\u001b[39;00m\n\u001b[1;32m   1559\u001b[0m \u001b[38;5;28;01mif\u001b[39;00m \u001b[38;5;129;01mnot\u001b[39;00m (\u001b[38;5;28mself\u001b[39m\u001b[38;5;241m.\u001b[39m_backward_hooks \u001b[38;5;129;01mor\u001b[39;00m \u001b[38;5;28mself\u001b[39m\u001b[38;5;241m.\u001b[39m_backward_pre_hooks \u001b[38;5;129;01mor\u001b[39;00m \u001b[38;5;28mself\u001b[39m\u001b[38;5;241m.\u001b[39m_forward_hooks \u001b[38;5;129;01mor\u001b[39;00m \u001b[38;5;28mself\u001b[39m\u001b[38;5;241m.\u001b[39m_forward_pre_hooks\n\u001b[1;32m   1560\u001b[0m         \u001b[38;5;129;01mor\u001b[39;00m _global_backward_pre_hooks \u001b[38;5;129;01mor\u001b[39;00m _global_backward_hooks\n\u001b[1;32m   1561\u001b[0m         \u001b[38;5;129;01mor\u001b[39;00m _global_forward_hooks \u001b[38;5;129;01mor\u001b[39;00m _global_forward_pre_hooks):\n\u001b[0;32m-> 1562\u001b[0m     \u001b[38;5;28;01mreturn\u001b[39;00m \u001b[43mforward_call\u001b[49m\u001b[43m(\u001b[49m\u001b[38;5;241;43m*\u001b[39;49m\u001b[43margs\u001b[49m\u001b[43m,\u001b[49m\u001b[43m \u001b[49m\u001b[38;5;241;43m*\u001b[39;49m\u001b[38;5;241;43m*\u001b[39;49m\u001b[43mkwargs\u001b[49m\u001b[43m)\u001b[49m\n\u001b[1;32m   1564\u001b[0m \u001b[38;5;28;01mtry\u001b[39;00m:\n\u001b[1;32m   1565\u001b[0m     result \u001b[38;5;241m=\u001b[39m \u001b[38;5;28;01mNone\u001b[39;00m\n",
      "Cell \u001b[0;32mIn[138], line 10\u001b[0m, in \u001b[0;36mNetwork.forward\u001b[0;34m(self, x)\u001b[0m\n\u001b[1;32m      9\u001b[0m \u001b[38;5;28;01mdef\u001b[39;00m \u001b[38;5;21mforward\u001b[39m(\u001b[38;5;28mself\u001b[39m, x):\n\u001b[0;32m---> 10\u001b[0m     x \u001b[38;5;241m=\u001b[39m \u001b[43mtorch\u001b[49m\u001b[38;5;241;43m.\u001b[39;49m\u001b[43mLeakyReLU\u001b[49m(\u001b[38;5;28mself\u001b[39m\u001b[38;5;241m.\u001b[39mhidden_layer_1(x))\n\u001b[1;32m     11\u001b[0m     x \u001b[38;5;241m=\u001b[39m torch\u001b[38;5;241m.\u001b[39mLeakyReLU(\u001b[38;5;28mself\u001b[39m\u001b[38;5;241m.\u001b[39mhidden_layer_2(x))\n\u001b[1;32m     12\u001b[0m     x \u001b[38;5;241m=\u001b[39m torch\u001b[38;5;241m.\u001b[39mLeakyReLU(\u001b[38;5;28mself\u001b[39m\u001b[38;5;241m.\u001b[39mhidden_layer_3(x))\n",
      "File \u001b[0;32m/Library/Frameworks/Python.framework/Versions/3.12/lib/python3.12/site-packages/torch/__init__.py:2216\u001b[0m, in \u001b[0;36m__getattr__\u001b[0;34m(name)\u001b[0m\n\u001b[1;32m   2213\u001b[0m     \u001b[38;5;28;01mimport\u001b[39;00m \u001b[38;5;21;01mimportlib\u001b[39;00m\n\u001b[1;32m   2214\u001b[0m     \u001b[38;5;28;01mreturn\u001b[39;00m importlib\u001b[38;5;241m.\u001b[39mimport_module(\u001b[38;5;124mf\u001b[39m\u001b[38;5;124m\"\u001b[39m\u001b[38;5;124m.\u001b[39m\u001b[38;5;132;01m{\u001b[39;00mname\u001b[38;5;132;01m}\u001b[39;00m\u001b[38;5;124m\"\u001b[39m, \u001b[38;5;18m__name__\u001b[39m)\n\u001b[0;32m-> 2216\u001b[0m \u001b[38;5;28;01mraise\u001b[39;00m \u001b[38;5;167;01mAttributeError\u001b[39;00m(\u001b[38;5;124mf\u001b[39m\u001b[38;5;124m\"\u001b[39m\u001b[38;5;124mmodule \u001b[39m\u001b[38;5;124m'\u001b[39m\u001b[38;5;132;01m{\u001b[39;00m\u001b[38;5;18m__name__\u001b[39m\u001b[38;5;132;01m}\u001b[39;00m\u001b[38;5;124m'\u001b[39m\u001b[38;5;124m has no attribute \u001b[39m\u001b[38;5;124m'\u001b[39m\u001b[38;5;132;01m{\u001b[39;00mname\u001b[38;5;132;01m}\u001b[39;00m\u001b[38;5;124m'\u001b[39m\u001b[38;5;124m\"\u001b[39m)\n",
      "\u001b[0;31mAttributeError\u001b[0m: module 'torch' has no attribute 'LeakyReLU'"
     ]
    }
   ],
   "source": [
    "# Train the network\n",
    "train(net, optimizer, x_range, initial_conditions, num_epochs)"
   ]
  },
  {
   "cell_type": "markdown",
   "id": "4d9e66d9-243d-4517-8eae-a2ce7c43b279",
   "metadata": {},
   "source": [
    "# **Visualize the solution of the NN** "
   ]
  },
  {
   "cell_type": "code",
   "execution_count": null,
   "id": "373108c4-e8d2-40d7-b4e0-ac4f328f20ad",
   "metadata": {},
   "outputs": [],
   "source": [
    "visualize_solution(net, x_range)"
   ]
  },
  {
   "cell_type": "code",
   "execution_count": null,
   "id": "5353e8b1-b65c-4195-8434-6e1a3e5d2818",
   "metadata": {},
   "outputs": [],
   "source": []
  }
 ],
 "metadata": {
  "kernelspec": {
   "display_name": "Python 3 (ipykernel)",
   "language": "python",
   "name": "python3"
  },
  "language_info": {
   "codemirror_mode": {
    "name": "ipython",
    "version": 3
   },
   "file_extension": ".py",
   "mimetype": "text/x-python",
   "name": "python",
   "nbconvert_exporter": "python",
   "pygments_lexer": "ipython3",
   "version": "3.12.3"
  }
 },
 "nbformat": 4,
 "nbformat_minor": 5
}
