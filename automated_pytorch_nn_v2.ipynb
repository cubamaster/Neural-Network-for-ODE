{
 "cells": [
  {
   "cell_type": "markdown",
   "id": "694423f5-9bd8-4c57-8550-1cfb200a0c42",
   "metadata": {},
   "source": [
    "## **code created by Murat Khidoyatov at Yale University**"
   ]
  },
  {
   "cell_type": "code",
   "execution_count": 28,
   "id": "7a79a4a3-6a6f-46fe-8c7d-a62a4b1d87a2",
   "metadata": {},
   "outputs": [],
   "source": [
    "import torch\n",
    "import torch.nn as nn\n",
    "import torch.optim as optim\n",
    "import numpy as np\n",
    "import matplotlib.pyplot as plt"
   ]
  },
  {
   "cell_type": "markdown",
   "id": "a8c053f5-f3bd-4a95-be15-5e970a4fabda",
   "metadata": {},
   "source": [
    "# **Define a function for the variable coefficients, which can depend on x, y, and their derivatives**"
   ]
  },
  {
   "cell_type": "code",
   "execution_count": 29,
   "id": "da4beb13-e546-423a-9343-854bc9559ee0",
   "metadata": {},
   "outputs": [],
   "source": [
    "def coeff_n(x, y, dy_dx): \n",
    "    return 1  # This can be changed to any function of x, y, or dy_dx. Change as needed "
   ]
  },
  {
   "cell_type": "markdown",
   "id": "cac0b066-a9bb-4abd-a0c6-0ef3013c73ac",
   "metadata": {},
   "source": [
    "**Always use torch for the math functions instead of the numpy**"
   ]
  },
  {
   "cell_type": "code",
   "execution_count": 30,
   "id": "f88e21a3-9366-4647-a99d-fd659fc9aac2",
   "metadata": {},
   "outputs": [],
   "source": [
    "def coeff_1(x, y, dy_dx):\n",
    "    return -1  # Example: Can be x, y, or some nonlinear function. Change as needed "
   ]
  },
  {
   "cell_type": "markdown",
   "id": "c2cf7af1-eaea-4e68-a2d1-0015e1806235",
   "metadata": {},
   "source": [
    "*or you can just pass down **return np.sin(y)** if your coefficient for y' is sin(y)*"
   ]
  },
  {
   "cell_type": "code",
   "execution_count": 31,
   "id": "799f21f8-14b2-4f45-a55a-729707340f83",
   "metadata": {},
   "outputs": [],
   "source": [
    "def coeff_0(x, y, dy_dx):\n",
    "    return torch.sin(x)  # Example: Can be x, y, or some nonlinear function.  Change as needed "
   ]
  },
  {
   "cell_type": "markdown",
   "id": "100227db-db29-47a9-867e-f7a3d5bc01fc",
   "metadata": {},
   "source": [
    "# **Apply Boundary Conditions**"
   ]
  },
  {
   "cell_type": "code",
   "execution_count": 32,
   "id": "9a0919f9-29fb-4465-83af-b6995ddd4d21",
   "metadata": {},
   "outputs": [],
   "source": [
    "x_range = (0, 2 * np.pi)  # Range for x\n",
    "boundary_conditions = [\n",
    "    (0.0, 0.0),  # Example: y(0) = 0. Change as needed\n",
    "    (2 * np.pi, 0.0),  # Example: y(2*pi) = 0. Change as needed \n",
    "]"
   ]
  },
  {
   "cell_type": "markdown",
   "id": "6f768b65-c3d7-4678-bab9-86f42fd63fde",
   "metadata": {},
   "source": [
    "# **Learning rate and number of epochs**"
   ]
  },
  {
   "cell_type": "code",
   "execution_count": 33,
   "id": "65693a29-8575-42e0-a136-d2439bfd403a",
   "metadata": {},
   "outputs": [],
   "source": [
    "learning_rate = 0.001 \n",
    "num_epochs = 1000 "
   ]
  },
  {
   "cell_type": "markdown",
   "id": "32d67aab-9067-42c3-a521-2e3ba5f36444",
   "metadata": {},
   "source": [
    "# **Define the neural network structure**"
   ]
  },
  {
   "cell_type": "code",
   "execution_count": 34,
   "id": "7db6987b-70bb-4b9d-9316-b399070b2ab7",
   "metadata": {},
   "outputs": [],
   "source": [
    "class Network(nn.Module):\n",
    "    def __init__(self):\n",
    "        super(Network, self).__init__()\n",
    "        self.hidden_layer_1 = nn.Linear(1, 200)\n",
    "        self.hidden_layer_2 = nn.Linear(200, 200)\n",
    "        self.hidden_layer_3 = nn.Linear(200, 200)\n",
    "        self.output_layer = nn.Linear(200, 1)\n",
    "\n",
    "    def forward(self, x):\n",
    "        x = torch.sigmoid(self.hidden_layer_1(x))\n",
    "        x = torch.sigmoid(self.hidden_layer_2(x))\n",
    "        x = torch.sigmoid(self.hidden_layer_3(x))\n",
    "        x = self.output_layer(x)\n",
    "        return x"
   ]
  },
  {
   "cell_type": "markdown",
   "id": "fe74f8ff-a71a-4b18-ad8d-7d6bb04b5121",
   "metadata": {},
   "source": [
    "# **Define the ODE residual function to train NN model**"
   ]
  },
  {
   "cell_type": "code",
   "execution_count": 35,
   "id": "cfa244c9-5e14-41e7-8817-fb054ef1d2f5",
   "metadata": {},
   "outputs": [],
   "source": [
    "def f_ode(x, net):\n",
    "    y = net(x)  # Neural network approximation of y(x)\n",
    "    dy_dx = torch.autograd.grad(y, x, torch.ones_like(x), create_graph=True)[0]  # dy/dx\n",
    "    d2y_dx2 = torch.autograd.grad(dy_dx, x, torch.ones_like(x), create_graph=True)[0]  # d2y/dx2\n",
    "\n",
    "    # Variable coefficients (these can depend on x, y, dy/dx)\n",
    "    coeff_n_val = coeff_n(x, y, dy_dx)\n",
    "    coeff_1_val = coeff_1(x, y, dy_dx)\n",
    "    coeff_0_val = coeff_0(x, y, dy_dx)\n",
    "\n",
    "    # General form: coeff_n * y'' + coeff_1 * y' + coeff_0 * y = 0\n",
    "    ode_residual = coeff_n_val * d2y_dx2 + coeff_1_val * dy_dx + coeff_0_val * y\n",
    "    \n",
    "    return ode_residual"
   ]
  },
  {
   "cell_type": "markdown",
   "id": "fc8d4870-91a3-41a2-9a77-177ca42dddca",
   "metadata": {},
   "source": [
    "# **Apply boundary conditions to train NN model**"
   ]
  },
  {
   "cell_type": "code",
   "execution_count": 36,
   "id": "dd04d4cd-487c-477d-89b8-3b40b7c7fb91",
   "metadata": {},
   "outputs": [],
   "source": [
    "def apply_boundary_conditions(net, boundary_conditions):\n",
    "    bc_residuals = []\n",
    "    for bc in boundary_conditions:\n",
    "        x_bc = torch.tensor([[bc[0]]], requires_grad=True)  # Boundary point at x = bc[0]\n",
    "        y_bc = net(x_bc)  # Predict y(bc[0])\n",
    "        bc_residual = y_bc - bc[1]  # The residual is y(bc[0]) - bc[1]\n",
    "        bc_residuals.append(bc_residual)\n",
    "    return torch.sum(torch.stack([bc**2 for bc in bc_residuals]))  # Sum of residuals squared\n"
   ]
  },
  {
   "cell_type": "markdown",
   "id": "026abd17-5ba4-4fc8-9f2e-87df51b434cf",
   "metadata": {},
   "source": [
    "# **Training the network**"
   ]
  },
  {
   "cell_type": "code",
   "execution_count": 37,
   "id": "e2570069-1948-47ad-84d8-e94d51165079",
   "metadata": {},
   "outputs": [],
   "source": [
    "def train(net, optimizer, x_range, boundary_conditions, num_epochs=1000):\n",
    "    x_min, x_max = x_range\n",
    "    for epoch in range(num_epochs):\n",
    "        optimizer.zero_grad()  # Reset gradients\n",
    "        \n",
    "        # Sample points in the domain x\n",
    "        x = torch.linspace(x_min, x_max, 100).view(-1, 1)\n",
    "        x.requires_grad = True  # Enable gradient tracking for these inputs\n",
    "        \n",
    "        # Compute the ODE residual\n",
    "        ode_residual = f_ode(x, net)\n",
    "        \n",
    "        # Compute the boundary condition residuals\n",
    "        bc_residual = apply_boundary_conditions(net, boundary_conditions)\n",
    "        \n",
    "        # Define the loss as the sum of the ODE residuals and boundary condition residuals\n",
    "        loss = torch.mean(ode_residual**2) + bc_residual\n",
    "        \n",
    "        # Perform backpropagation and optimization step\n",
    "        loss.backward()\n",
    "        optimizer.step()\n",
    "        \n",
    "        # Print the loss every 10 epochs\n",
    "        if epoch % 10 == 0:\n",
    "            print(f'Epoch {epoch}, Loss: {loss.item()}')\n",
    "    # Calculate and display the final accuracy and loss after training\n",
    "    final_loss = loss.item()\n",
    "    accuracy = calculate_accuracy(net, boundary_conditions)\n",
    "    print(f'\\nFinal Loss: {final_loss}')\n",
    "    print(f'Accuracy in % : {accuracy}')\n"
   ]
  },
  {
   "cell_type": "markdown",
   "id": "54da504a-027e-40a1-b198-4397949d07b6",
   "metadata": {},
   "source": [
    "> **function to calculate accuracy based on boundary conditions**"
   ]
  },
  {
   "cell_type": "code",
   "execution_count": 38,
   "id": "a7f3c587-ca0a-4f80-aa87-3dd13146564f",
   "metadata": {},
   "outputs": [],
   "source": [
    "def calculate_accuracy(net, boundary_conditions):\n",
    "    total_error = 0\n",
    "    max_bc_value = max([abs(bc[1]) for bc in boundary_conditions])\n",
    "    if max_bc_value == 0:\n",
    "        max_bc_value = 1.0\n",
    "\n",
    "    for bc in boundary_conditions:\n",
    "        x_bc = torch.tensor([[bc[0]]], dtype=torch.float32)\n",
    "        y_bc = net(x_bc)\n",
    "        total_error += (y_bc.item() - bc[1])**2\n",
    "\n",
    "    mse = total_error / len(boundary_conditions)\n",
    "    accuracy_percentage = 100 - ((mse / max_bc_value) * 100)\n",
    "    return accuracy_percentage\n"
   ]
  },
  {
   "cell_type": "markdown",
   "id": "7c70c975-13fd-469d-87f6-31c6bc35f610",
   "metadata": {},
   "source": [
    "> **Function to visualize the solution of the ODE learned by the NN**"
   ]
  },
  {
   "cell_type": "code",
   "execution_count": 39,
   "id": "12b5db94-69cc-4406-a7e0-7ca81397d44e",
   "metadata": {},
   "outputs": [],
   "source": [
    "def visualize_solution(net, x_range):\n",
    "    x_min, x_max = x_range\n",
    "    x_values = np.linspace(x_min, x_max, 100)\n",
    "    x_tensor = torch.tensor(x_values, dtype=torch.float32).view(-1, 1)\n",
    "    \n",
    "    y_pred = net(x_tensor).detach().numpy()\n",
    "    \n",
    "    # Plotting the predicted solution\n",
    "    plt.plot(x_values, y_pred, label=\"NN Solution\")\n",
    "    plt.xlabel(\"x\")\n",
    "    plt.ylabel(\"y(x)\")\n",
    "    plt.title(\"Solution of the ODE learned by the Neural Network\")\n",
    "    plt.legend()\n",
    "    plt.grid(True)\n",
    "    plt.show()"
   ]
  },
  {
   "cell_type": "markdown",
   "id": "b41f70f2-a227-4e94-89ee-8bd39697ddfa",
   "metadata": {},
   "source": [
    "# **Initialize and train the NN**"
   ]
  },
  {
   "cell_type": "code",
   "execution_count": 40,
   "id": "df9f63e1-ff8e-4a90-a2e9-e0a935e7293c",
   "metadata": {},
   "outputs": [],
   "source": [
    "# Initialize the network and optimizer\n",
    "net = Network()\n",
    "optimizer = optim.Adam(net.parameters(), lr=learning_rate)"
   ]
  },
  {
   "cell_type": "code",
   "execution_count": 41,
   "id": "4de4b415-5845-4614-867b-29a1ab37da00",
   "metadata": {},
   "outputs": [
    {
     "name": "stdout",
     "output_type": "stream",
     "text": [
      "Epoch 0, Loss: 0.035659536719322205\n",
      "Epoch 10, Loss: 0.011862030252814293\n",
      "Epoch 20, Loss: 0.003999337553977966\n",
      "Epoch 30, Loss: 0.0015730959130451083\n",
      "Epoch 40, Loss: 0.00042854741332121193\n",
      "Epoch 50, Loss: 2.8187840143800713e-05\n",
      "Epoch 60, Loss: 2.5678513338789344e-05\n",
      "Epoch 70, Loss: 4.2208979721181095e-05\n",
      "Epoch 80, Loss: 5.585935127783159e-07\n",
      "Epoch 90, Loss: 5.4804277169751e-06\n",
      "Epoch 100, Loss: 1.0576405884421547e-07\n",
      "Epoch 110, Loss: 4.2965018565155333e-07\n",
      "Epoch 120, Loss: 2.8811865604438935e-07\n",
      "Epoch 130, Loss: 8.796841655112075e-08\n",
      "Epoch 140, Loss: 3.9642440441411964e-08\n",
      "Epoch 150, Loss: 3.325630615336195e-08\n",
      "Epoch 160, Loss: 3.2380970793610686e-08\n",
      "Epoch 170, Loss: 3.2034080277298926e-08\n",
      "Epoch 180, Loss: 3.172650764327045e-08\n",
      "Epoch 190, Loss: 3.1359235208583414e-08\n",
      "Epoch 200, Loss: 3.0956243790569715e-08\n",
      "Epoch 210, Loss: 3.057238018300268e-08\n",
      "Epoch 220, Loss: 3.0246148696733144e-08\n",
      "Epoch 230, Loss: 2.9935062428876336e-08\n",
      "Epoch 240, Loss: 2.9618972163802937e-08\n",
      "Epoch 250, Loss: 2.9328560913199908e-08\n",
      "Epoch 260, Loss: 2.9028290882138208e-08\n",
      "Epoch 270, Loss: 2.874433846500324e-08\n",
      "Epoch 280, Loss: 2.8463059464911566e-08\n",
      "Epoch 290, Loss: 2.818813626959127e-08\n",
      "Epoch 300, Loss: 2.7925072032530807e-08\n",
      "Epoch 310, Loss: 2.766572215762153e-08\n",
      "Epoch 320, Loss: 2.7414602143949196e-08\n",
      "Epoch 330, Loss: 2.7161066284975277e-08\n",
      "Epoch 340, Loss: 2.6928114849056328e-08\n",
      "Epoch 350, Loss: 2.6687525078727958e-08\n",
      "Epoch 360, Loss: 2.646212848844698e-08\n",
      "Epoch 370, Loss: 2.624244643811835e-08\n",
      "Epoch 380, Loss: 2.6026363286746346e-08\n",
      "Epoch 390, Loss: 2.5815689141950315e-08\n",
      "Epoch 400, Loss: 2.5608988707404023e-08\n",
      "Epoch 410, Loss: 2.5416163396130287e-08\n",
      "Epoch 420, Loss: 2.521851349968074e-08\n",
      "Epoch 430, Loss: 2.503152707333811e-08\n",
      "Epoch 440, Loss: 2.484327943363951e-08\n",
      "Epoch 450, Loss: 2.4666082509838816e-08\n",
      "Epoch 460, Loss: 2.4486928040801104e-08\n",
      "Epoch 470, Loss: 2.4320264913058054e-08\n",
      "Epoch 480, Loss: 2.4147325916601403e-08\n",
      "Epoch 490, Loss: 2.3983353969470045e-08\n",
      "Epoch 500, Loss: 2.381931096806511e-08\n",
      "Epoch 510, Loss: 2.3658826009409495e-08\n",
      "Epoch 520, Loss: 2.3502979118461553e-08\n",
      "Epoch 530, Loss: 2.335009696707857e-08\n",
      "Epoch 540, Loss: 2.319830905150866e-08\n",
      "Epoch 550, Loss: 2.3051329733903003e-08\n",
      "Epoch 560, Loss: 2.2901335938740885e-08\n",
      "Epoch 570, Loss: 2.2760863416237953e-08\n",
      "Epoch 580, Loss: 2.26110348222619e-08\n",
      "Epoch 590, Loss: 2.247129238241996e-08\n",
      "Epoch 600, Loss: 2.2330114646251786e-08\n",
      "Epoch 610, Loss: 2.2192036652768365e-08\n",
      "Epoch 620, Loss: 2.205287508161291e-08\n",
      "Epoch 630, Loss: 2.1913031389431126e-08\n",
      "Epoch 640, Loss: 2.1780692804895807e-08\n",
      "Epoch 650, Loss: 2.1642051706294296e-08\n",
      "Epoch 660, Loss: 2.1507798209086104e-08\n",
      "Epoch 670, Loss: 2.1375791803279753e-08\n",
      "Epoch 680, Loss: 2.1240165182234705e-08\n",
      "Epoch 690, Loss: 2.1110681203140302e-08\n",
      "Epoch 700, Loss: 2.0976109738057858e-08\n",
      "Epoch 710, Loss: 2.0843655690327978e-08\n",
      "Epoch 720, Loss: 2.0710182013772283e-08\n",
      "Epoch 730, Loss: 2.0578486470412827e-08\n",
      "Epoch 740, Loss: 2.0445710902095016e-08\n",
      "Epoch 750, Loss: 2.031344870090379e-08\n",
      "Epoch 760, Loss: 2.018592049068957e-08\n",
      "Epoch 770, Loss: 2.0053439797607098e-08\n",
      "Epoch 780, Loss: 1.992515485937929e-08\n",
      "Epoch 790, Loss: 1.979068642299353e-08\n",
      "Epoch 800, Loss: 1.9657331762346075e-08\n",
      "Epoch 810, Loss: 1.952705908081498e-08\n",
      "Epoch 820, Loss: 1.939925198257697e-08\n",
      "Epoch 830, Loss: 1.926523296447158e-08\n",
      "Epoch 840, Loss: 1.91358537904307e-08\n",
      "Epoch 850, Loss: 1.900040835778327e-08\n",
      "Epoch 860, Loss: 1.8873096863103456e-08\n",
      "Epoch 870, Loss: 1.873953614506263e-08\n",
      "Epoch 880, Loss: 1.8610601060231602e-08\n",
      "Epoch 890, Loss: 1.8477996022170373e-08\n",
      "Epoch 900, Loss: 1.8348444541516074e-08\n",
      "Epoch 910, Loss: 1.821650741362646e-08\n",
      "Epoch 920, Loss: 1.8080003272302747e-08\n",
      "Epoch 930, Loss: 1.7948469377415677e-08\n",
      "Epoch 940, Loss: 1.7817713526824264e-08\n",
      "Epoch 950, Loss: 1.7684218533986495e-08\n",
      "Epoch 960, Loss: 1.7558020815044983e-08\n",
      "Epoch 970, Loss: 1.7420857645333854e-08\n",
      "Epoch 980, Loss: 1.7292899556764496e-08\n",
      "Epoch 990, Loss: 1.716342623581113e-08\n",
      "\n",
      "Final Loss: 1.7044161637613797e-08\n",
      "Accuracy in % : 99.99999995327963\n"
     ]
    }
   ],
   "source": [
    "# Train the network\n",
    "train(net, optimizer, x_range, boundary_conditions, num_epochs)"
   ]
  },
  {
   "cell_type": "markdown",
   "id": "4d9e66d9-243d-4517-8eae-a2ce7c43b279",
   "metadata": {},
   "source": [
    "# **Visualize the solution of the NN** "
   ]
  },
  {
   "cell_type": "code",
   "execution_count": 42,
   "id": "373108c4-e8d2-40d7-b4e0-ac4f328f20ad",
   "metadata": {},
   "outputs": [
    {
     "data": {
      "image/png": "[encoded data removed]",
      "text/plain": [
       "<Figure size 640x480 with 1 Axes>"
      ]
     },
     "metadata": {},
     "output_type": "display_data"
    }
   ],
   "source": [
    "visualize_solution(net, x_range)"
   ]
  },
  {
   "cell_type": "code",
   "execution_count": null,
   "id": "5353e8b1-b65c-4195-8434-6e1a3e5d2818",
   "metadata": {},
   "outputs": [],
   "source": []
  }
 ],
 "metadata": {
  "kernelspec": {
   "display_name": "Python 3 (ipykernel)",
   "language": "python",
   "name": "python3"
  },
  "language_info": {
   "codemirror_mode": {
    "name": "ipython",
    "version": 3
   },
   "file_extension": ".py",
   "mimetype": "text/x-python",
   "name": "python",
   "nbconvert_exporter": "python",
   "pygments_lexer": "ipython3",
   "version": "3.12.3"
  }
 },
 "nbformat": 4,
 "nbformat_minor": 5
}
