{
 "cells": [
  {
   "cell_type": "code",
   "execution_count": 29,
   "id": "c242ed89-896e-49a3-9b22-2780d3012aec",
   "metadata": {},
   "outputs": [],
   "source": [
    "import torch\n",
    "import torch.nn as nn\n",
    "import numpy as np\n",
    "import matplotlib.pyplot as plt"
   ]
  },
  {
   "cell_type": "code",
   "execution_count": 30,
   "id": "17f03bd3-bdd4-4213-ad1c-f64bdf6b5ba9",
   "metadata": {},
   "outputs": [
    {
     "name": "stdout",
     "output_type": "stream",
     "text": [
      "Looking in indexes: https://pypi.org/simple, https://download.pytorch.org/whl/nightly/cpu\n",
      "Requirement already satisfied: torch in /Library/Frameworks/Python.framework/Versions/3.12/lib/python3.12/site-packages (2.4.1)\n",
      "Requirement already satisfied: torchvision in /Library/Frameworks/Python.framework/Versions/3.12/lib/python3.12/site-packages (0.19.1)\n",
      "Requirement already satisfied: torchaudio in /Library/Frameworks/Python.framework/Versions/3.12/lib/python3.12/site-packages (2.4.1)\n",
      "Requirement already satisfied: filelock in /Library/Frameworks/Python.framework/Versions/3.12/lib/python3.12/site-packages (from torch) (3.16.1)\n",
      "Requirement already satisfied: typing-extensions>=4.8.0 in /Library/Frameworks/Python.framework/Versions/3.12/lib/python3.12/site-packages (from torch) (4.12.1)\n",
      "Requirement already satisfied: sympy in /Library/Frameworks/Python.framework/Versions/3.12/lib/python3.12/site-packages (from torch) (1.13.3)\n",
      "Requirement already satisfied: networkx in /Library/Frameworks/Python.framework/Versions/3.12/lib/python3.12/site-packages (from torch) (3.3)\n",
      "Requirement already satisfied: jinja2 in /Library/Frameworks/Python.framework/Versions/3.12/lib/python3.12/site-packages (from torch) (3.1.4)\n",
      "Requirement already satisfied: fsspec in /Library/Frameworks/Python.framework/Versions/3.12/lib/python3.12/site-packages (from torch) (2024.9.0)\n",
      "Requirement already satisfied: setuptools in /Library/Frameworks/Python.framework/Versions/3.12/lib/python3.12/site-packages (from torch) (70.0.0)\n",
      "Requirement already satisfied: numpy in /Library/Frameworks/Python.framework/Versions/3.12/lib/python3.12/site-packages (from torchvision) (1.26.4)\n",
      "Requirement already satisfied: pillow!=8.3.*,>=5.3.0 in /Library/Frameworks/Python.framework/Versions/3.12/lib/python3.12/site-packages (from torchvision) (10.3.0)\n",
      "Requirement already satisfied: MarkupSafe>=2.0 in /Library/Frameworks/Python.framework/Versions/3.12/lib/python3.12/site-packages (from jinja2->torch) (2.1.5)\n",
      "Requirement already satisfied: mpmath<1.4,>=1.1.0 in /Library/Frameworks/Python.framework/Versions/3.12/lib/python3.12/site-packages (from sympy->torch) (1.3.0)\n",
      "\n",
      "\u001b[1m[\u001b[0m\u001b[34;49mnotice\u001b[0m\u001b[1;39;49m]\u001b[0m\u001b[39;49m A new release of pip is available: \u001b[0m\u001b[31;49m24.0\u001b[0m\u001b[39;49m -> \u001b[0m\u001b[32;49m24.3.1\u001b[0m\n",
      "\u001b[1m[\u001b[0m\u001b[34;49mnotice\u001b[0m\u001b[1;39;49m]\u001b[0m\u001b[39;49m To update, run: \u001b[0m\u001b[32;49mpip3.12 install --upgrade pip\u001b[0m\n",
      "Note: you may need to restart the kernel to use updated packages.\n"
     ]
    }
   ],
   "source": [
    "pip install --pre torch torchvision torchaudio --extra-index-url https://download.pytorch.org/whl/nightly/cpu"
   ]
  },
  {
   "cell_type": "code",
   "execution_count": 31,
   "id": "3174e9b6-c98d-4bec-b17e-61d94dba11f5",
   "metadata": {},
   "outputs": [
    {
     "name": "stdout",
     "output_type": "stream",
     "text": [
      "tensor([1.], device='mps:0')\n"
     ]
    }
   ],
   "source": [
    "import torch\n",
    "if torch.backends.mps.is_available():\n",
    "    mps_device = torch.device(\"mps\")\n",
    "    x = torch.ones(1, device=mps_device)\n",
    "    print (x)\n",
    "else:\n",
    "    print (\"MPS device not found.\")\n",
    "\n"
   ]
  },
  {
   "cell_type": "code",
   "execution_count": 32,
   "id": "58a6b500-0175-47ff-812b-617a2bb8129d",
   "metadata": {},
   "outputs": [],
   "source": [
    "# Define parameters\n",
    "alpha = 1 / 3  # Thermal diffusivity constant\n",
    "a, b = 2, 2  # Plate dimensions\n",
    "n_epochs = 10000\n",
    "n_points = 2000"
   ]
  },
  {
   "cell_type": "code",
   "execution_count": 33,
   "id": "74ef5ea2-2bc2-4975-bbf5-2ce91e77b7c8",
   "metadata": {},
   "outputs": [],
   "source": [
    "def initial_temperature(x, y):\n",
    "    # Normalized initial condition: 50 for y <= 1, else 0 \n",
    "    return torch.where(y <= 1.0, torch.tensor(1.0), torch.tensor(0.0))"
   ]
  },
  {
   "cell_type": "code",
   "execution_count": 34,
   "id": "353db9a5-a7d9-44f7-ac6d-f77b77e664ff",
   "metadata": {},
   "outputs": [],
   "source": [
    "# Analytical solution for comparison\n",
    "def analytical_solution(x, y, t, terms=50):\n",
    "    u = 0\n",
    "    for m in range(1, terms + 1):\n",
    "        for n in range(1, terms + 1):\n",
    "            coeff = 200 / (np.pi**2 * m * n) * (1 + (-1)**(m + 1)) * (1 - np.cos(n * np.pi / 2))\n",
    "            lambda_mn = (np.pi / 6) * np.sqrt(m**2 + n**2)\n",
    "            u += coeff * np.sin(m * np.pi * x / a) * np.sin(n * np.pi * y / b) * np.exp(-lambda_mn**2 * t)\n",
    "    return 50 * u  # Scale back to the actual temperature\n"
   ]
  },
  {
   "cell_type": "code",
   "execution_count": 35,
   "id": "1420228e-dedf-41d4-9ffb-a721013f5743",
   "metadata": {},
   "outputs": [],
   "source": [
    "# Define PINN model\n",
    "class PINN2DHeat(nn.Module):\n",
    "    def __init__(self):\n",
    "        super(PINN2DHeat, self).__init__()\n",
    "        self.net = nn.Sequential(\n",
    "            nn.Linear(3, 128),  # Input: x, y, t\n",
    "            nn.Tanh(),\n",
    "            nn.Linear(128, 128),\n",
    "            nn.Tanh(),\n",
    "            nn.Linear(128, 128),\n",
    "            nn.Tanh(),\n",
    "            nn.Linear(128, 1)  # Output: u(x, y, t)\n",
    "        )\n",
    "\n",
    "    def forward(self, x, y, t):\n",
    "        inputs = torch.cat([x, y, t], dim=1)\n",
    "        return self.net(inputs)"
   ]
  },
  {
   "cell_type": "code",
   "execution_count": 36,
   "id": "3403fe59-87de-4096-b70a-8fa56147369b",
   "metadata": {},
   "outputs": [
    {
     "data": {
      "text/plain": [
       "'\\ndef xavier_init(m):\\n    if isinstance(m, nn.Linear):\\n        nn.init.xavier_normal_(m.weight)\\n        nn.init.zeros_(m.bias)\\n        '"
      ]
     },
     "execution_count": 36,
     "metadata": {},
     "output_type": "execute_result"
    }
   ],
   "source": [
    "# Xavier Initialization\n",
    "\"\"\"\n",
    "def xavier_init(m):\n",
    "    if isinstance(m, nn.Linear):\n",
    "        nn.init.xavier_normal_(m.weight)\n",
    "        nn.init.zeros_(m.bias)\n",
    "        \"\"\"\n"
   ]
  },
  {
   "cell_type": "code",
   "execution_count": 37,
   "id": "4ae38140-a3ab-4740-8f28-fc43088d1088",
   "metadata": {},
   "outputs": [],
   "source": [
    "# Define the PDE residual\n",
    "def heat_equation_residual(model, x, y, t, alpha):\n",
    "    x.requires_grad_(True)\n",
    "    y.requires_grad_(True)\n",
    "    t.requires_grad_(True)\n",
    "    u = model(x, y, t)\n",
    "    u_t = torch.autograd.grad(u, t, grad_outputs=torch.ones_like(u), retain_graph=True, create_graph=True)[0]\n",
    "    u_x = torch.autograd.grad(u, x, grad_outputs=torch.ones_like(u), retain_graph=True, create_graph=True)[0]\n",
    "    u_xx = torch.autograd.grad(u_x, x, grad_outputs=torch.ones_like(u_x), retain_graph=True, create_graph=True)[0]\n",
    "    u_y = torch.autograd.grad(u, y, grad_outputs=torch.ones_like(u), retain_graph=True, create_graph=True)[0]\n",
    "    u_yy = torch.autograd.grad(u_y, y, grad_outputs=torch.ones_like(u_y), retain_graph=True, create_graph=True)[0]\n",
    "    return u_t - alpha * (u_xx + u_yy)"
   ]
  },
  {
   "cell_type": "code",
   "execution_count": 38,
   "id": "c01600a4-7831-46bb-832d-7fb0fab889f2",
   "metadata": {},
   "outputs": [],
   "source": [
    "# Boundary and initial condition losses\n",
    "def initial_condition_loss(model, x, y):\n",
    "    t_zero = torch.zeros_like(x)\n",
    "    u_pred = model(x, y, t_zero)\n",
    "    u_true = initial_temperature(x, y)\n",
    "    return torch.mean((u_pred - u_true)**2)"
   ]
  },
  {
   "cell_type": "code",
   "execution_count": 39,
   "id": "d48bc805-79c4-4696-8476-fab6dbd129de",
   "metadata": {},
   "outputs": [],
   "source": [
    "def boundary_condition_loss(model):\n",
    "    \"\"\"Loss enforcing boundary conditions u(x, y, t) = 0 on edges.\"\"\"\n",
    "    x_edge = torch.linspace(0, a, 100).reshape(-1, 1)\n",
    "    y_edge = torch.linspace(0, b, 100).reshape(-1, 1)\n",
    "    t_edge = torch.linspace(0, 5, 100).reshape(-1, 1)\n",
    "\n",
    "    # Evaluate on all edges\n",
    "    u_pred_top = model(x_edge,  b * torch.ones_like(y_edge), t_edge)\n",
    "    u_pred_bottom = model(x_edge, 0 * torch.ones_like(y_edge), t_edge)\n",
    "    u_pred_left = model(0 * torch.ones_like(x_edge), y_edge, t_edge)\n",
    "    u_pred_right = model(a * torch.ones_like(x_edge), y_edge, t_edge)\n",
    "\n",
    "    return torch.mean(u_pred_top**2 + u_pred_bottom**2 + u_pred_left**2 + u_pred_right**2)"
   ]
  },
  {
   "cell_type": "code",
   "execution_count": 40,
   "id": "9c8720c9-1078-4314-8e40-390875434133",
   "metadata": {},
   "outputs": [],
   "source": [
    "# Training function\n",
    "def train_pinn(model, optimizer, n_epochs, n_points):\n",
    "    loss_history = []\n",
    "    for epoch in range(n_epochs):\n",
    "\n",
    "        x = torch.rand((n_points, 1)) * a\n",
    "        y = torch.rand((n_points, 1)) * b\n",
    "        t = torch.rand((n_points, 1)) * 5\n",
    "        \n",
    "        loss_pde = torch.mean(heat_equation_residual(model, x, y, t, alpha)**2)\n",
    "     \n",
    "        x_init = torch.rand((n_points // 2, 1)) * a\n",
    "        y_init = torch.rand((n_points // 2, 1)) * b\n",
    "        loss_ic = initial_condition_loss(model, x_init, y_init)\n",
    "\n",
    "        loss_bc = boundary_condition_loss(model)\n",
    "\n",
    "        loss = 1.0 * loss_pde + 1.0 * loss_ic + 1.0 * loss_bc\n",
    "\n",
    "        optimizer.zero_grad()\n",
    "        loss.backward()\n",
    "        optimizer.step()\n",
    "        # scheduler.step()\n",
    "\n",
    "        loss_history.append(loss.item())\n",
    "        if epoch % 500 == 0:\n",
    "            print(f\"Epoch {epoch}, Loss: {loss.item():.6f}\")\n",
    "    return loss_history"
   ]
  },
  {
   "cell_type": "code",
   "execution_count": null,
   "id": "210b3e58-4d72-44f0-a786-945b4556b7d9",
   "metadata": {},
   "outputs": [
    {
     "name": "stdout",
     "output_type": "stream",
     "text": [
      "Epoch 0, Loss: 0.673442\n",
      "Epoch 500, Loss: 0.036626\n",
      "Epoch 1000, Loss: 0.024876\n",
      "Epoch 1500, Loss: 0.030181\n",
      "Epoch 2000, Loss: 0.021080\n",
      "Epoch 2500, Loss: 0.025748\n",
      "Epoch 3000, Loss: 0.016890\n",
      "Epoch 3500, Loss: 0.020463\n",
      "Epoch 4000, Loss: 0.055620\n",
      "Epoch 4500, Loss: 0.016328\n",
      "Epoch 5000, Loss: 0.019794\n",
      "Epoch 5500, Loss: 0.016113\n",
      "Epoch 6000, Loss: 0.017813\n",
      "Epoch 6500, Loss: 0.033589\n",
      "Epoch 7000, Loss: 0.022713\n",
      "Epoch 7500, Loss: 0.021294\n"
     ]
    }
   ],
   "source": [
    "model = PINN2DHeat()\n",
    "# model.apply(xavier_init)\n",
    "# optimizer = torch.optim.AdamW(model.parameters(), lr=0.001)\n",
    "# scheduler = torch.optim.lr_scheduler.StepLR(optimizer, step_size=2000, gamma=0.5)\n",
    "# loss_history = train_pinn(model, optimizer, scheduler, n_epochs, n_points)\n",
    "\n",
    "optimizer = torch.optim.Adam(model.parameters(), lr=0.005)\n",
    "loss_history = train_pinn(model, optimizer, n_epochs, n_points)"
   ]
  },
  {
   "cell_type": "code",
   "execution_count": null,
   "id": "2ddf02ca-fde5-4ce6-b9b2-dc3ef0ff4b9b",
   "metadata": {},
   "outputs": [],
   "source": [
    "\n",
    "plt.plot(loss_history)\n",
    "plt.xlabel('Epochs')\n",
    "plt.ylabel('Loss')\n",
    "plt.title('Training Loss')\n",
    "plt.show()\n"
   ]
  },
  {
   "cell_type": "code",
   "execution_count": null,
   "id": "700e6384-d73b-418b-82f0-12692ebab149",
   "metadata": {},
   "outputs": [],
   "source": [
    "time_steps = [1, 2, 3, 4, 5]\n",
    "x_vals = torch.linspace(0, a, 100).reshape(-1, 1)\n",
    "y_vals = torch.linspace(0, b, 100).reshape(-1, 1)\n",
    "X, Y = torch.meshgrid(x_vals.squeeze(), y_vals.squeeze())\n",
    "\n",
    "fig, axes = plt.subplots(len(time_steps), 3, figsize=(15, 20))\n",
    "\n",
    "for i, t_fixed in enumerate(time_steps):\n",
    "    t_tensor = torch.full_like(X.reshape(-1, 1), t_fixed)\n",
    "    u_pred = model(X.reshape(-1, 1), Y.reshape(-1, 1), t_tensor).detach().numpy().reshape(-1, 1) * 50\n",
    "    u_exact = analytical_solution(X.numpy(), Y.numpy(), t_fixed, terms=50).reshape(-1, 1)\n",
    "    error = np.abs(u_pred - u_exact)\n",
    "\n",
    "    axes[i, 0].imshow(u_pred.reshape(100, 100), extent=[0, a, 0, b], origin='lower', cmap='hot')\n",
    "    axes[i, 0].set_title(f\"PINN Solution at t = {t_fixed}\")\n",
    "\n",
    "    axes[i, 1].imshow(u_exact.reshape(100, 100), extent=[0, a, 0, b], origin='lower', cmap='hot')\n",
    "    axes[i, 1].set_title(f\"Analytical Solution at t = {t_fixed}\")\n",
    "\n",
    "    axes[i, 2].imshow(error.reshape(100, 100), extent=[0, a, 0, b], origin='lower', cmap='viridis')\n",
    "    axes[i, 2].set_title(f\"Error at t = {t_fixed}\")\n",
    "\n",
    "plt.tight_layout()\n",
    "plt.show()"
   ]
  },
  {
   "cell_type": "code",
   "execution_count": null,
   "id": "0cd321db-d638-4858-8bfa-7c91c0487421",
   "metadata": {},
   "outputs": [],
   "source": []
  }
 ],
 "metadata": {
  "kernelspec": {
   "display_name": "Python 3 (ipykernel)",
   "language": "python",
   "name": "python3"
  },
  "language_info": {
   "codemirror_mode": {
    "name": "ipython",
    "version": 3
   },
   "file_extension": ".py",
   "mimetype": "text/x-python",
   "name": "python",
   "nbconvert_exporter": "python",
   "pygments_lexer": "ipython3",
   "version": "3.12.3"
  }
 },
 "nbformat": 4,
 "nbformat_minor": 5
}
