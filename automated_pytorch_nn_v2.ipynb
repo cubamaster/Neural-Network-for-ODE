{
 "cells": [
  {
   "cell_type": "markdown",
   "id": "694423f5-9bd8-4c57-8550-1cfb200a0c42",
   "metadata": {},
   "source": [
    "## **code created by Murat Khidoyatov at Yale University**"
   ]
  },
  {
   "cell_type": "code",
   "execution_count": 73,
   "id": "7a79a4a3-6a6f-46fe-8c7d-a62a4b1d87a2",
   "metadata": {},
   "outputs": [],
   "source": [
    "import torch\n",
    "import torch.nn as nn\n",
    "import torch.optim as optim\n",
    "import numpy as np\n",
    "import matplotlib.pyplot as plt"
   ]
  },
  {
   "cell_type": "markdown",
   "id": "a8c053f5-f3bd-4a95-be15-5e970a4fabda",
   "metadata": {},
   "source": [
    "# **Define a function for the variable coefficients, which can depend on x, y, and their derivatives**"
   ]
  },
  {
   "attachments": {
    "206985be-f211-42c1-a95f-b4cc9e78e926.png": {
     "image/png": "[encoded data removed]"
    }
   },
   "cell_type": "markdown",
   "id": "a6bdb706-8d5c-4b9a-97ea-aeaf050686eb",
   "metadata": {},
   "source": [
    "![Screenshot 2024-10-15 at 10.11.30 PM.png](attachment:206985be-f211-42c1-a95f-b4cc9e78e926.png)"
   ]
  },
  {
   "cell_type": "code",
   "execution_count": 74,
   "id": "da4beb13-e546-423a-9343-854bc9559ee0",
   "metadata": {},
   "outputs": [],
   "source": [
    "def a_x(x, y, dy_dx): \n",
    "    return 1  # This can be changed to any function of x, y, or dy_dx. Change as needed "
   ]
  },
  {
   "cell_type": "markdown",
   "id": "cac0b066-a9bb-4abd-a0c6-0ef3013c73ac",
   "metadata": {},
   "source": [
    "**Always use torch for the math functions instead of the numpy**"
   ]
  },
  {
   "cell_type": "code",
   "execution_count": 75,
   "id": "f88e21a3-9366-4647-a99d-fd659fc9aac2",
   "metadata": {},
   "outputs": [],
   "source": [
    "def p_x(x, y, dy_dx):\n",
    "    return -1  # Example: Can be x, y, or some nonlinear function. Change as needed "
   ]
  },
  {
   "cell_type": "markdown",
   "id": "c2cf7af1-eaea-4e68-a2d1-0015e1806235",
   "metadata": {},
   "source": [
    "*or you can just pass down **return np.sin(y)** if your coefficient for y' is sin(y)*"
   ]
  },
  {
   "cell_type": "code",
   "execution_count": 76,
   "id": "799f21f8-14b2-4f45-a55a-729707340f83",
   "metadata": {},
   "outputs": [],
   "source": [
    "def q_x(x, y, dy_dx):\n",
    "    return torch.sin(x)  # Example: Can be x, y, or some nonlinear function.  Change as needed "
   ]
  },
  {
   "cell_type": "markdown",
   "id": "100227db-db29-47a9-867e-f7a3d5bc01fc",
   "metadata": {},
   "source": [
    "# **Apply Boundary Conditions**"
   ]
  },
  {
   "cell_type": "code",
   "execution_count": 77,
   "id": "9a0919f9-29fb-4465-83af-b6995ddd4d21",
   "metadata": {},
   "outputs": [],
   "source": [
    "x_range = (0, 2 * np.pi)  # Range for x\n",
    "boundary_conditions = [\n",
    "    (0.0, 0.0),  # Example: y(0) = 0. Change as needed\n",
    "    (2 * np.pi, 0.0),  # Example: y(2*pi) = 0. Change as needed \n",
    "]"
   ]
  },
  {
   "cell_type": "markdown",
   "id": "6f768b65-c3d7-4678-bab9-86f42fd63fde",
   "metadata": {},
   "source": [
    "# **Learning rate and number of epochs**"
   ]
  },
  {
   "cell_type": "code",
   "execution_count": 78,
   "id": "65693a29-8575-42e0-a136-d2439bfd403a",
   "metadata": {},
   "outputs": [],
   "source": [
    "learning_rate = 0.001 \n",
    "num_epochs = 1000 "
   ]
  },
  {
   "cell_type": "markdown",
   "id": "32d67aab-9067-42c3-a521-2e3ba5f36444",
   "metadata": {},
   "source": [
    "# **Define the neural network structure**"
   ]
  },
  {
   "cell_type": "code",
   "execution_count": 79,
   "id": "7db6987b-70bb-4b9d-9316-b399070b2ab7",
   "metadata": {},
   "outputs": [],
   "source": [
    "class Network(nn.Module):\n",
    "    def __init__(self):\n",
    "        super(Network, self).__init__()\n",
    "        self.hidden_layer_1 = nn.Linear(1, 200)\n",
    "        self.hidden_layer_2 = nn.Linear(200, 200)\n",
    "        self.hidden_layer_3 = nn.Linear(200, 200)\n",
    "        self.output_layer = nn.Linear(200, 1)\n",
    "\n",
    "    def forward(self, x):\n",
    "        x = torch.sigmoid(self.hidden_layer_1(x))\n",
    "        x = torch.sigmoid(self.hidden_layer_2(x))\n",
    "        x = torch.sigmoid(self.hidden_layer_3(x))\n",
    "        x = self.output_layer(x)\n",
    "        return x"
   ]
  },
  {
   "cell_type": "markdown",
   "id": "fe74f8ff-a71a-4b18-ad8d-7d6bb04b5121",
   "metadata": {},
   "source": [
    "# **Define the ODE residual function to train NN model**"
   ]
  },
  {
   "cell_type": "code",
   "execution_count": 80,
   "id": "cfa244c9-5e14-41e7-8817-fb054ef1d2f5",
   "metadata": {},
   "outputs": [],
   "source": [
    "def f_ode(x, net):\n",
    "    y = net(x)  # Neural network approximation of y(x)\n",
    "    dy_dx = torch.autograd.grad(y, x, torch.ones_like(x), create_graph=True)[0]  # dy/dx\n",
    "    d2y_dx2 = torch.autograd.grad(dy_dx, x, torch.ones_like(x), create_graph=True)[0]  # d2y/dx2\n",
    "\n",
    "    # Variable coefficients (these can depend on x, y, dy/dx)\n",
    "    coeff_n_val = a_x(x, y, dy_dx)\n",
    "    coeff_1_val = p_x(x, y, dy_dx)\n",
    "    coeff_0_val = q_x(x, y, dy_dx)\n",
    "\n",
    "    # General form: coeff_n * y'' + coeff_1 * y' + coeff_0 * y = 0\n",
    "    ode_residual = coeff_n_val * d2y_dx2 + coeff_1_val * dy_dx + coeff_0_val * y\n",
    "    \n",
    "    return ode_residual"
   ]
  },
  {
   "cell_type": "markdown",
   "id": "fc8d4870-91a3-41a2-9a77-177ca42dddca",
   "metadata": {},
   "source": [
    "# **Apply boundary conditions to train NN model**"
   ]
  },
  {
   "cell_type": "code",
   "execution_count": 81,
   "id": "dd04d4cd-487c-477d-89b8-3b40b7c7fb91",
   "metadata": {},
   "outputs": [],
   "source": [
    "def apply_boundary_conditions(net, boundary_conditions):\n",
    "    bc_residuals = []\n",
    "    for bc in boundary_conditions:\n",
    "        x_bc = torch.tensor([[bc[0]]], requires_grad=True)  # Boundary point at x = bc[0]\n",
    "        y_bc = net(x_bc)  # Predict y(bc[0])\n",
    "        bc_residual = y_bc - bc[1]  # The residual is y(bc[0]) - bc[1]\n",
    "        bc_residuals.append(bc_residual)\n",
    "    return torch.sum(torch.stack([bc**2 for bc in bc_residuals]))  # Sum of residuals squared\n"
   ]
  },
  {
   "cell_type": "markdown",
   "id": "026abd17-5ba4-4fc8-9f2e-87df51b434cf",
   "metadata": {},
   "source": [
    "# **Training the network**"
   ]
  },
  {
   "cell_type": "code",
   "execution_count": 82,
   "id": "e2570069-1948-47ad-84d8-e94d51165079",
   "metadata": {},
   "outputs": [],
   "source": [
    "def train(net, optimizer, x_range, boundary_conditions, num_epochs=1000):\n",
    "    x_min, x_max = x_range\n",
    "    for epoch in range(num_epochs):\n",
    "        optimizer.zero_grad()  # Reset gradients\n",
    "        \n",
    "        # Sample points in the domain x\n",
    "        x = torch.linspace(x_min, x_max, 100).view(-1, 1)\n",
    "        x.requires_grad = True  # Enable gradient tracking for these inputs\n",
    "        \n",
    "        # Compute the ODE residual\n",
    "        ode_residual = f_ode(x, net)\n",
    "        \n",
    "        # Compute the boundary condition residuals\n",
    "        bc_residual = apply_boundary_conditions(net, boundary_conditions)\n",
    "        \n",
    "        # Define the loss as the sum of the ODE residuals and boundary condition residuals\n",
    "        loss = torch.mean(ode_residual**2) + bc_residual\n",
    "        \n",
    "        # Perform backpropagation and optimization step\n",
    "        loss.backward()\n",
    "        optimizer.step()\n",
    "        \n",
    "        # Print the loss every 10 epochs\n",
    "        if epoch % 10 == 0:\n",
    "            print(f'Epoch {epoch}, Loss: {loss.item()}')\n",
    "    # Calculate and display the final accuracy and loss after training\n",
    "    final_loss = loss.item()\n",
    "    accuracy = calculate_accuracy(net, boundary_conditions)\n",
    "    print(f'\\nFinal Loss: {final_loss}')\n",
    "    print(f'Accuracy in % : {accuracy}')\n"
   ]
  },
  {
   "cell_type": "markdown",
   "id": "54da504a-027e-40a1-b198-4397949d07b6",
   "metadata": {},
   "source": [
    "> **function to calculate accuracy based on boundary conditions**"
   ]
  },
  {
   "cell_type": "code",
   "execution_count": 83,
   "id": "a7f3c587-ca0a-4f80-aa87-3dd13146564f",
   "metadata": {},
   "outputs": [],
   "source": [
    "def calculate_accuracy(net, boundary_conditions):\n",
    "    total_error = 0\n",
    "    max_bc_value = max([abs(bc[1]) for bc in boundary_conditions])\n",
    "    if max_bc_value == 0:\n",
    "        max_bc_value = 1.0\n",
    "\n",
    "    for bc in boundary_conditions:\n",
    "        x_bc = torch.tensor([[bc[0]]], dtype=torch.float32)\n",
    "        y_bc = net(x_bc)\n",
    "        total_error += (y_bc.item() - bc[1])**2\n",
    "\n",
    "    mse = total_error / len(boundary_conditions)\n",
    "    accuracy_percentage = 100 - ((mse / max_bc_value) * 100)\n",
    "    return accuracy_percentage\n"
   ]
  },
  {
   "cell_type": "markdown",
   "id": "7c70c975-13fd-469d-87f6-31c6bc35f610",
   "metadata": {},
   "source": [
    "> **Function to visualize the solution of the ODE learned by the NN**"
   ]
  },
  {
   "cell_type": "code",
   "execution_count": 84,
   "id": "12b5db94-69cc-4406-a7e0-7ca81397d44e",
   "metadata": {},
   "outputs": [],
   "source": [
    "def visualize_solution(net, x_range):\n",
    "    x_min, x_max = x_range\n",
    "    x_values = np.linspace(x_min, x_max, 100)\n",
    "    x_tensor = torch.tensor(x_values, dtype=torch.float32).view(-1, 1)\n",
    "    \n",
    "    y_pred = net(x_tensor).detach().numpy()\n",
    "    \n",
    "    # Plotting the predicted solution\n",
    "    plt.plot(x_values, y_pred, label=\"NN Solution\")\n",
    "    plt.xlabel(\"x\")\n",
    "    plt.ylabel(\"y(x)\")\n",
    "    plt.title(\"Solution of the ODE learned by the Neural Network\")\n",
    "    plt.legend()\n",
    "    plt.grid(True)\n",
    "    plt.show()"
   ]
  },
  {
   "cell_type": "markdown",
   "id": "b41f70f2-a227-4e94-89ee-8bd39697ddfa",
   "metadata": {},
   "source": [
    "# **Initialize and train the NN**"
   ]
  },
  {
   "cell_type": "code",
   "execution_count": 85,
   "id": "df9f63e1-ff8e-4a90-a2e9-e0a935e7293c",
   "metadata": {},
   "outputs": [],
   "source": [
    "# Initialize the network and optimizer\n",
    "net = Network()\n",
    "optimizer = optim.Adam(net.parameters(), lr=learning_rate)"
   ]
  },
  {
   "cell_type": "code",
   "execution_count": 86,
   "id": "4de4b415-5845-4614-867b-29a1ab37da00",
   "metadata": {},
   "outputs": [
    {
     "name": "stdout",
     "output_type": "stream",
     "text": [
      "Epoch 0, Loss: 0.020316127687692642\n",
      "Epoch 10, Loss: 0.010846837423741817\n",
      "Epoch 20, Loss: 0.004780890420079231\n",
      "Epoch 30, Loss: 0.0021677622571587563\n",
      "Epoch 40, Loss: 0.0008062863489612937\n",
      "Epoch 50, Loss: 0.0002320803760085255\n",
      "Epoch 60, Loss: 2.1817893866682425e-05\n",
      "Epoch 70, Loss: 6.93845322530251e-06\n",
      "Epoch 80, Loss: 1.5504134353250265e-05\n",
      "Epoch 90, Loss: 2.5633511313571944e-07\n",
      "Epoch 100, Loss: 1.9672518192237476e-06\n",
      "Epoch 110, Loss: 1.2130346505045964e-08\n",
      "Epoch 120, Loss: 1.8288750425199396e-07\n",
      "Epoch 130, Loss: 8.79627606309441e-08\n",
      "Epoch 140, Loss: 1.279087680217117e-08\n",
      "Epoch 150, Loss: 3.212903054716776e-09\n",
      "Epoch 160, Loss: 3.478421994884684e-09\n",
      "Epoch 170, Loss: 3.3335370019926813e-09\n",
      "Epoch 180, Loss: 3.0407329987269804e-09\n",
      "Epoch 190, Loss: 2.8502307181099695e-09\n",
      "Epoch 200, Loss: 2.7352591303042573e-09\n",
      "Epoch 210, Loss: 2.6483946147237702e-09\n",
      "Epoch 220, Loss: 2.5626429867031675e-09\n",
      "Epoch 230, Loss: 2.4734623238487075e-09\n",
      "Epoch 240, Loss: 2.3844504148939905e-09\n",
      "Epoch 250, Loss: 2.2989665726669273e-09\n",
      "Epoch 260, Loss: 2.215375438652245e-09\n",
      "Epoch 270, Loss: 2.1334554123342286e-09\n",
      "Epoch 280, Loss: 2.052676695285527e-09\n",
      "Epoch 290, Loss: 1.973921026632297e-09\n",
      "Epoch 300, Loss: 1.8965364834144793e-09\n",
      "Epoch 310, Loss: 1.8217141128928915e-09\n",
      "Epoch 320, Loss: 1.747992639522522e-09\n",
      "Epoch 330, Loss: 1.6766517063615538e-09\n",
      "Epoch 340, Loss: 1.6078097742067143e-09\n",
      "Epoch 350, Loss: 1.5396111052723427e-09\n",
      "Epoch 360, Loss: 1.4743428700114691e-09\n",
      "Epoch 370, Loss: 1.4110244084264423e-09\n",
      "Epoch 380, Loss: 1.349320100096918e-09\n",
      "Epoch 390, Loss: 1.2897689583013516e-09\n",
      "Epoch 400, Loss: 1.2323602138764045e-09\n",
      "Epoch 410, Loss: 1.1770266983290867e-09\n",
      "Epoch 420, Loss: 1.1236623853605465e-09\n",
      "Epoch 430, Loss: 1.0720724308299623e-09\n",
      "Epoch 440, Loss: 1.0226626212528345e-09\n",
      "Epoch 450, Loss: 9.755150021106829e-10\n",
      "Epoch 460, Loss: 9.299322423217404e-10\n",
      "Epoch 470, Loss: 8.86435425062615e-10\n",
      "Epoch 480, Loss: 8.444938082163844e-10\n",
      "Epoch 490, Loss: 8.046861510457859e-10\n",
      "Epoch 500, Loss: 7.664886503278012e-10\n",
      "Epoch 510, Loss: 7.300003934673782e-10\n",
      "Epoch 520, Loss: 6.949956721236106e-10\n",
      "Epoch 530, Loss: 6.618265380176069e-10\n",
      "Epoch 540, Loss: 6.303027544340978e-10\n",
      "Epoch 550, Loss: 6.001888985807113e-10\n",
      "Epoch 560, Loss: 5.715072859402426e-10\n",
      "Epoch 570, Loss: 5.446930129160421e-10\n",
      "Epoch 580, Loss: 5.18388443282447e-10\n",
      "Epoch 590, Loss: 4.94164542619302e-10\n",
      "Epoch 600, Loss: 4.713492929298013e-10\n",
      "Epoch 610, Loss: 4.4923637032567854e-10\n",
      "Epoch 620, Loss: 4.28365232174599e-10\n",
      "Epoch 630, Loss: 4.0899936215588184e-10\n",
      "Epoch 640, Loss: 3.9043152044726526e-10\n",
      "Epoch 650, Loss: 3.731475683999008e-10\n",
      "Epoch 660, Loss: 3.5662969799510336e-10\n",
      "Epoch 670, Loss: 3.4110078650506637e-10\n",
      "Epoch 680, Loss: 3.2647951009323606e-10\n",
      "Epoch 690, Loss: 3.1267022304604097e-10\n",
      "Epoch 700, Loss: 3.0006613860322773e-10\n",
      "Epoch 710, Loss: 2.879602112315638e-10\n",
      "Epoch 720, Loss: 2.7656857359836806e-10\n",
      "Epoch 730, Loss: 2.661720843732951e-10\n",
      "Epoch 740, Loss: 2.561431344805243e-10\n",
      "Epoch 750, Loss: 2.4675506082871834e-10\n",
      "Epoch 760, Loss: 2.380237396071294e-10\n",
      "Epoch 770, Loss: 2.300184487324941e-10\n",
      "Epoch 780, Loss: 2.2221163797908616e-10\n",
      "Epoch 790, Loss: 2.1484838907959158e-10\n",
      "Epoch 800, Loss: 2.0833218483673477e-10\n",
      "Epoch 810, Loss: 2.020989625650671e-10\n",
      "Epoch 820, Loss: 1.9624986358213192e-10\n",
      "Epoch 830, Loss: 1.9110843463288063e-10\n",
      "Epoch 840, Loss: 1.8610114838057967e-10\n",
      "Epoch 850, Loss: 1.813188627020068e-10\n",
      "Epoch 860, Loss: 1.7704869514911792e-10\n",
      "Epoch 870, Loss: 1.729562465468959e-10\n",
      "Epoch 880, Loss: 1.6918766387874484e-10\n",
      "Epoch 890, Loss: 1.6576411077107167e-10\n",
      "Epoch 900, Loss: 1.6238713151928152e-10\n",
      "Epoch 910, Loss: 1.5956350130075236e-10\n",
      "Epoch 920, Loss: 1.5688092491750183e-10\n",
      "Epoch 930, Loss: 1.5420159593659832e-10\n",
      "Epoch 940, Loss: 1.518459941118877e-10\n",
      "Epoch 950, Loss: 1.4953183136157122e-10\n",
      "Epoch 960, Loss: 1.4756955379890968e-10\n",
      "Epoch 970, Loss: 1.4549857152434953e-10\n",
      "Epoch 980, Loss: 1.4365575395913766e-10\n",
      "Epoch 990, Loss: 1.4214676657964276e-10\n",
      "\n",
      "Final Loss: 1.4076848020572186e-10\n",
      "Accuracy in % : 99.99999999990062\n"
     ]
    }
   ],
   "source": [
    "# Train the network\n",
    "train(net, optimizer, x_range, boundary_conditions, num_epochs)"
   ]
  },
  {
   "cell_type": "markdown",
   "id": "4d9e66d9-243d-4517-8eae-a2ce7c43b279",
   "metadata": {},
   "source": [
    "# **Visualize the solution of the NN** "
   ]
  },
  {
   "cell_type": "code",
   "execution_count": 87,
   "id": "373108c4-e8d2-40d7-b4e0-ac4f328f20ad",
   "metadata": {},
   "outputs": [
    {
     "data": {
      "image/png": "[encoded data removed]",
      "text/plain": [
       "<Figure size 640x480 with 1 Axes>"
      ]
     },
     "metadata": {},
     "output_type": "display_data"
    }
   ],
   "source": [
    "visualize_solution(net, x_range)"
   ]
  },
  {
   "cell_type": "code",
   "execution_count": null,
   "id": "5353e8b1-b65c-4195-8434-6e1a3e5d2818",
   "metadata": {},
   "outputs": [],
   "source": []
  }
 ],
 "metadata": {
  "kernelspec": {
   "display_name": "Python 3 (ipykernel)",
   "language": "python",
   "name": "python3"
  },
  "language_info": {
   "codemirror_mode": {
    "name": "ipython",
    "version": 3
   },
   "file_extension": ".py",
   "mimetype": "text/x-python",
   "name": "python",
   "nbconvert_exporter": "python",
   "pygments_lexer": "ipython3",
   "version": "3.12.3"
  }
 },
 "nbformat": 4,
 "nbformat_minor": 5
}
