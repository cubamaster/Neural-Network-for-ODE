{
 "cells": [
  {
   "cell_type": "code",
   "execution_count": 13,
   "id": "d7827c29-a635-479e-a6c7-1ae1a7fccaa4",
   "metadata": {},
   "outputs": [],
   "source": [
    "import torch\n",
    "import torch.optim as optim\n",
    "import numpy as np\n",
    "import matplotlib.pyplot as plt"
   ]
  },
  {
   "cell_type": "code",
   "execution_count": 14,
   "id": "2ae509c5-c271-49c0-9dc5-3631bd2041cd",
   "metadata": {},
   "outputs": [],
   "source": [
    "x_range = (0.0, 10)  # Domain for the ODE\n",
    "initial_conditions = [\n",
    "    {'type': 'y', 'value': 1.0, 'x': 0.0},    # y(0) = 1\n",
    "    {'type': 'y\\'', 'value': 0.0, 'x': 0.0},  # y'(0) = 0\n",
    "]\n",
    "\n",
    "learning_rate = 0.0001\n",
    "num_epochs = 10000"
   ]
  },
  {
   "cell_type": "code",
   "execution_count": 15,
   "id": "63721e0e-b093-4096-a9e9-3b3e38b6b9a6",
   "metadata": {},
   "outputs": [],
   "source": [
    "class Network(torch.nn.Module):\n",
    "    def __init__(self, D_in, H, D_out):\n",
    "        super(Network, self).__init__()\n",
    "        self.linear1 = torch.nn.Linear(D_in, H)\n",
    "        self.linear2 = torch.nn.Linear(H, H)\n",
    "        self.linear3 = torch.nn.Linear(H, H)\n",
    "        self.linear4 = torch.nn.Linear(H, D_out)\n",
    "        \n",
    "        # Initialize biases and weights\n",
    "        torch.nn.init.constant_(self.linear1.bias, 0.)\n",
    "        torch.nn.init.constant_(self.linear2.bias, 0.)\n",
    "        torch.nn.init.constant_(self.linear3.bias, 0.)\n",
    "        torch.nn.init.constant_(self.linear4.bias, 0.)\n",
    "        \n",
    "        torch.nn.init.normal_(self.linear1.weight, mean=0, std=0.1)\n",
    "        torch.nn.init.normal_(self.linear2.weight, mean=0, std=0.1)\n",
    "        torch.nn.init.normal_(self.linear3.weight, mean=0, std=0.1)\n",
    "        torch.nn.init.normal_(self.linear4.weight, mean=0, std=0.1)\n",
    "\n",
    "    def forward(self, x):\n",
    "        y1 = torch.tanh(self.linear1(x))\n",
    "        y2 = torch.tanh(self.linear2(y1))\n",
    "        y3 = torch.tanh(self.linear3(y2))\n",
    "        y = self.linear4(y3)\n",
    "        return y"
   ]
  },
  {
   "cell_type": "code",
   "execution_count": 16,
   "id": "9092d478-c044-42b0-af46-1a87926d4d15",
   "metadata": {},
   "outputs": [],
   "source": [
    "D_in, H, D_out = 1, 1000, 1  # Example dimensions, can be modified based on ODE requirements\n",
    "model = Network(D_in, H, D_out)\n",
    "optimizer = optim.Adam(model.parameters(), lr=learning_rate, weight_decay=1e-5)"
   ]
  },
  {
   "cell_type": "code",
   "execution_count": 17,
   "id": "c8d0ba50-41db-4687-962f-e4e390ff27c2",
   "metadata": {},
   "outputs": [],
   "source": [
    "def energy_functional(x, y, dy_dx):\n",
    "    # Defines the energy functionalor aka the ODE/PDE based on the problem requirements. \n",
    "    # Here you can modify the functino yourself to match the energy function of your specific problem.\n",
    "    # Like as an examle, if it's elasticity, you can use function of strain energy\n",
    "    # Here, I defined a dummy function for simple demonstration.\n",
    "    return 0.5 * (dy_dx ** 2) - 0.5 *  (y ** 2)  # Example: strain energy with linear potential that I found online."
   ]
  },
  {
   "cell_type": "code",
   "execution_count": 18,
   "id": "30238cf1-37bb-410a-a037-e2fbb66ce1ee",
   "metadata": {},
   "outputs": [],
   "source": [
    "# x_range = (0.0, 10)  # Domain for the ODE\n",
    "# initial_conditions = [\n",
    "#     {'type': 'y', 'value': 1.0, 'x': 0.0},    # y(0) = 1\n",
    "#     {'type': 'y\\'', 'value': 0.0, 'x': 0.0},  # y'(0) = 0\n",
    "# ]\n",
    "\n",
    "# learning_rate = 0.001\n",
    "# num_epochs = 1000"
   ]
  },
  {
   "cell_type": "code",
   "execution_count": 19,
   "id": "32017237-8f7b-4c84-b865-d22ed095d623",
   "metadata": {},
   "outputs": [],
   "source": [
    "def compute_energy_integral(model, x_range, num_points=1000):\n",
    "    \"\"\"Compute the integral of the energy functional over the specified x range.\"\"\"\n",
    "    x_min, x_max = x_range\n",
    "    x = torch.linspace(x_min, x_max, num_points).view(-1, 1)\n",
    "    x.requires_grad = True  \n",
    "    \n",
    "    y_pred = model(x)\n",
    "    dy_dx_pred = torch.autograd.grad(y_pred, x, torch.ones_like(y_pred), create_graph=True)[0]\n",
    "    \n",
    "    energy_vals = energy_functional(x, y_pred, dy_dx_pred)\n",
    "    \n",
    "    integral = torch.mean(energy_vals) * (x_max - x_min)\n",
    "    return integral ** 2"
   ]
  },
  {
   "cell_type": "code",
   "execution_count": 20,
   "id": "3b75caf3-f968-4a99-8744-3776398d771a",
   "metadata": {},
   "outputs": [],
   "source": [
    "def apply_initial_conditions(model, initial_conditions):\n",
    "    ivp_residuals = []\n",
    "    for ivp in initial_conditions:\n",
    "        x_ivp = torch.tensor([[ivp['x']]], requires_grad=True)\n",
    "        y_ivp = model(x_ivp)\n",
    "        \n",
    "        if ivp['type'] == 'y':\n",
    "            ivp_residual = y_ivp - ivp['value']\n",
    "        elif ivp['type'] == 'y\\'':\n",
    "            dy_dx_ivp = torch.autograd.grad(y_ivp, x_ivp, torch.ones_like(x_ivp), create_graph=True)[0]\n",
    "            ivp_residual = dy_dx_ivp - ivp['value']\n",
    "        \n",
    "        ivp_residuals.append(ivp_residual ** 2)\n",
    "    \n",
    "    return torch.sum(torch.stack([ivp**2 for ivp in ivp_residuals]))"
   ]
  },
  {
   "cell_type": "code",
   "execution_count": 21,
   "id": "316dfeec-a0b4-46be-a11d-8a5ab96c2eef",
   "metadata": {},
   "outputs": [],
   "source": [
    "def train(model, optimizer, x_range, initial_conditions, num_epochs):\n",
    "    for epoch in range(num_epochs):\n",
    "        optimizer.zero_grad()\n",
    "\n",
    "        # Compute the energy integral\n",
    "        energy_integral = compute_energy_integral(model, x_range)\n",
    "\n",
    "        # Apply initial condition residuals as constraints\n",
    "        ivp_residual = apply_initial_conditions(model, initial_conditions)\n",
    "\n",
    "        # Total loss: Energy integral + initial condition penalty\n",
    "        loss = energy_integral + 500 * ivp_residual # ** 2 \n",
    "        loss.backward()\n",
    "        optimizer.step()\n",
    "        # scheduler.step()\n",
    "        if epoch % 100 == 0:\n",
    "            print(f'Epoch {epoch}, Loss: {loss.item()}')"
   ]
  },
  {
   "cell_type": "code",
   "execution_count": null,
   "id": "22d12e86-d1ea-47af-8239-7f6bb7c35b4a",
   "metadata": {},
   "outputs": [
    {
     "name": "stdout",
     "output_type": "stream",
     "text": [
      "Epoch 0, Loss: 35825.34375\n",
      "Epoch 100, Loss: 7.348491191864014\n",
      "Epoch 200, Loss: 3.1059913635253906\n",
      "Epoch 300, Loss: 1.463247299194336\n",
      "Epoch 400, Loss: 0.7590457797050476\n",
      "Epoch 500, Loss: 0.42577511072158813\n",
      "Epoch 600, Loss: 0.25313085317611694\n",
      "Epoch 700, Loss: 0.15703243017196655\n",
      "Epoch 800, Loss: 0.10054323077201843\n",
      "Epoch 900, Loss: 0.06594889611005783\n",
      "Epoch 1000, Loss: 0.044068269431591034\n",
      "Epoch 1100, Loss: 0.0298821609467268\n",
      "Epoch 1200, Loss: 0.020488539710640907\n",
      "Epoch 1300, Loss: 0.01416288036853075\n",
      "Epoch 1400, Loss: 0.009852958843111992\n",
      "Epoch 1500, Loss: 0.006889820098876953\n",
      "Epoch 1600, Loss: 0.00484743295237422\n",
      "Epoch 1700, Loss: 0.003431899705901742\n",
      "Epoch 1800, Loss: 0.0024412234779447317\n",
      "Epoch 1900, Loss: 0.001745328539982438\n",
      "Epoch 2000, Loss: 0.0012551441323012114\n",
      "Epoch 2100, Loss: 0.0009091426618397236\n",
      "Epoch 2200, Loss: 0.000663889164570719\n",
      "Epoch 2300, Loss: 0.0004914018791168928\n",
      "Epoch 2400, Loss: 0.00036884163273498416\n",
      "Epoch 2500, Loss: 0.00028070586267858744\n",
      "Epoch 2600, Loss: 0.00021638658654410392\n",
      "Epoch 2700, Loss: 0.00016910287376958877\n",
      "Epoch 2800, Loss: 0.00013374374248087406\n",
      "Epoch 2900, Loss: 0.00010725565516622737\n",
      "Epoch 3000, Loss: 8.717782475287095e-05\n",
      "Epoch 3100, Loss: 7.18449882697314e-05\n",
      "Epoch 3200, Loss: 5.9887650422751904e-05\n",
      "Epoch 3300, Loss: 5.050851177657023e-05\n",
      "Epoch 3400, Loss: 4.313850149628706e-05\n",
      "Epoch 3500, Loss: 3.711459430633113e-05\n",
      "Epoch 3600, Loss: 3.2086540159070864e-05\n",
      "Epoch 3700, Loss: 2.786370532703586e-05\n",
      "Epoch 3800, Loss: 2.431133179925382e-05\n",
      "Epoch 3900, Loss: 2.1290883523761295e-05\n",
      "Epoch 4000, Loss: 1.8669141354621388e-05\n",
      "Epoch 4100, Loss: 1.6406822396675125e-05\n",
      "Epoch 4200, Loss: 1.4439975529967342e-05\n",
      "Epoch 4300, Loss: 1.2762462574755773e-05\n",
      "Epoch 4400, Loss: 1.1314979929011315e-05\n",
      "Epoch 4500, Loss: 1.0080995707539842e-05\n",
      "Epoch 4600, Loss: 8.992516086436808e-06\n",
      "Epoch 4700, Loss: 8.031822289922275e-06\n",
      "Epoch 4800, Loss: 7.21686819815659e-06\n",
      "Epoch 4900, Loss: 6.470499556598952e-06\n",
      "Epoch 5000, Loss: 5.847975899087032e-06\n",
      "Epoch 5100, Loss: 5.30930446984712e-06\n",
      "Epoch 5200, Loss: 4.8257779781124555e-06\n",
      "Epoch 5300, Loss: 4.41176644017105e-06\n",
      "Epoch 5400, Loss: 4.027877366752364e-06\n",
      "Epoch 5500, Loss: 3.6859153169643832e-06\n",
      "Epoch 5600, Loss: 3.38959011969564e-06\n",
      "Epoch 5700, Loss: 3.107574229943566e-06\n",
      "Epoch 5800, Loss: 2.8543256576085696e-06\n",
      "Epoch 5900, Loss: 2.6235068162350217e-06\n",
      "Epoch 6000, Loss: 2.4155904156941688e-06\n",
      "Epoch 6100, Loss: 2.219886255261372e-06\n",
      "Epoch 6200, Loss: 2.0445470454433234e-06\n",
      "Epoch 6300, Loss: 1.8850553260563174e-06\n",
      "Epoch 6400, Loss: 1.7305522987953736e-06\n",
      "Epoch 6500, Loss: 1.591443151482963e-06\n",
      "Epoch 6600, Loss: 1.4626411939389072e-06\n",
      "Epoch 6700, Loss: 1.3413408623819123e-06\n",
      "Epoch 6800, Loss: 1.2284081094549038e-06\n",
      "Epoch 6900, Loss: 1.1279489626758732e-06\n",
      "Epoch 7000, Loss: 1.034651063491765e-06\n",
      "Epoch 7100, Loss: 9.477165576754487e-07\n",
      "Epoch 7200, Loss: 8.664329698149231e-07\n",
      "Epoch 7300, Loss: 7.916087838566455e-07\n",
      "Epoch 7400, Loss: 7.219829285531887e-07\n",
      "Epoch 7500, Loss: 6.609957949876843e-07\n",
      "Epoch 7600, Loss: 6.044195401955221e-07\n",
      "Epoch 7700, Loss: 5.498439463735849e-07\n",
      "Epoch 7800, Loss: 5.028155669606349e-07\n",
      "Epoch 7900, Loss: 4.572479213038605e-07\n",
      "Epoch 8000, Loss: 4.167386862263811e-07\n",
      "Epoch 8100, Loss: 3.796853036419634e-07\n",
      "Epoch 8200, Loss: 3.4531524306657957e-07\n",
      "Epoch 8300, Loss: 3.1400293210026575e-07\n",
      "Epoch 8400, Loss: 2.837114720932732e-07\n",
      "Epoch 8500, Loss: 2.582188187716383e-07\n"
     ]
    }
   ],
   "source": [
    "train(model, optimizer, x_range, initial_conditions, num_epochs)"
   ]
  },
  {
   "cell_type": "code",
   "execution_count": null,
   "id": "85f14769-c8a0-461f-88ac-566d7b00f334",
   "metadata": {},
   "outputs": [],
   "source": [
    "def visualize_solution(model, x_range):\n",
    "    x_min, x_max = x_range\n",
    "    x_values = np.linspace(x_min, x_max, 100)\n",
    "    x_tensor = torch.tensor(x_values, dtype=torch.float32).view(-1, 1)\n",
    "    y_pred = model(x_tensor).detach().numpy()\n",
    "\n",
    "    plt.plot(x_values, y_pred, label=\"DEM Solution\")\n",
    "    plt.xlabel(\"x\")\n",
    "    plt.ylabel(\"y(x)\")\n",
    "    plt.title(\"Solution of the Harmonic Oscillator via DEM\")\n",
    "    plt.legend()\n",
    "    plt.grid(True)\n",
    "    plt.show()"
   ]
  },
  {
   "cell_type": "code",
   "execution_count": null,
   "id": "387ac691-419f-4084-994f-7595767047c5",
   "metadata": {},
   "outputs": [],
   "source": [
    "visualize_solution(model, x_range)"
   ]
  },
  {
   "cell_type": "code",
   "execution_count": null,
   "id": "e5473488-2030-4874-ae36-77f83496db7c",
   "metadata": {},
   "outputs": [],
   "source": []
  }
 ],
 "metadata": {
  "kernelspec": {
   "display_name": "Python 3 (ipykernel)",
   "language": "python",
   "name": "python3"
  },
  "language_info": {
   "codemirror_mode": {
    "name": "ipython",
    "version": 3
   },
   "file_extension": ".py",
   "mimetype": "text/x-python",
   "name": "python",
   "nbconvert_exporter": "python",
   "pygments_lexer": "ipython3",
   "version": "3.12.3"
  }
 },
 "nbformat": 4,
 "nbformat_minor": 5
}
