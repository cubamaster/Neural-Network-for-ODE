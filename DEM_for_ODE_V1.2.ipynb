{
 "cells": [
  {
   "cell_type": "code",
   "execution_count": 69,
   "id": "d7827c29-a635-479e-a6c7-1ae1a7fccaa4",
   "metadata": {},
   "outputs": [],
   "source": [
    "import torch\n",
    "import torch.optim as optim\n",
    "import numpy as np\n",
    "import matplotlib.pyplot as plt"
   ]
  },
  {
   "cell_type": "code",
   "execution_count": 70,
   "id": "63721e0e-b093-4096-a9e9-3b3e38b6b9a6",
   "metadata": {},
   "outputs": [],
   "source": [
    "class Network(torch.nn.Module):\n",
    "    def __init__(self, D_in, H, D_out):\n",
    "        super(Network, self).__init__()\n",
    "        self.linear1 = torch.nn.Linear(D_in, H)\n",
    "        self.linear2 = torch.nn.Linear(H, H)\n",
    "        self.linear3 = torch.nn.Linear(H, H)\n",
    "        self.linear4 = torch.nn.Linear(H, D_out)\n",
    "        \n",
    "        # Initialize biases and weights\n",
    "        torch.nn.init.constant_(self.linear1.bias, 0.)\n",
    "        torch.nn.init.constant_(self.linear2.bias, 0.)\n",
    "        torch.nn.init.constant_(self.linear3.bias, 0.)\n",
    "        torch.nn.init.constant_(self.linear4.bias, 0.)\n",
    "        \n",
    "        torch.nn.init.normal_(self.linear1.weight, mean=0, std=0.1)\n",
    "        torch.nn.init.normal_(self.linear2.weight, mean=0, std=0.1)\n",
    "        torch.nn.init.normal_(self.linear3.weight, mean=0, std=0.1)\n",
    "        torch.nn.init.normal_(self.linear4.weight, mean=0, std=0.1)\n",
    "\n",
    "    def forward(self, x):\n",
    "        y1 = torch.tanh(self.linear1(x))\n",
    "        y2 = torch.tanh(self.linear2(y1))\n",
    "        y3 = torch.tanh(self.linear3(y2))\n",
    "        y = self.linear4(y3)\n",
    "        return y"
   ]
  },
  {
   "cell_type": "code",
   "execution_count": 71,
   "id": "9092d478-c044-42b0-af46-1a87926d4d15",
   "metadata": {},
   "outputs": [],
   "source": [
    "D_in, H, D_out = 1, 200, 1  # Example dimensions, can be modified based on ODE requirements\n",
    "model = MultiLayerNet(D_in, H, D_out)\n"
   ]
  },
  {
   "cell_type": "code",
   "execution_count": 72,
   "id": "c8d0ba50-41db-4687-962f-e4e390ff27c2",
   "metadata": {},
   "outputs": [],
   "source": [
    "def energy_functional(x, y, dy_dx):\n",
    "    # Defines the energy functionalor aka the ODE/PDE based on the problem requirements. \n",
    "    # Here you can modify the functino yourself to match the energy function of your specific problem.\n",
    "    # Like as an examle, if it's elasticity, you can use function of strain energy\n",
    "    # Here, I defined a dummy function for simple demonstration.\n",
    "    return 0.5 * (dy_dx ** 2) - 0.5 *  (y ** 2)  # Example: strain energy with linear potential that I found online."
   ]
  },
  {
   "cell_type": "code",
   "execution_count": 73,
   "id": "30238cf1-37bb-410a-a037-e2fbb66ce1ee",
   "metadata": {},
   "outputs": [],
   "source": [
    "x_range = (0.0, 10)  # Domain for the ODE\n",
    "initial_conditions = [\n",
    "    {'type': 'y', 'value': 1.0, 'x': 0.0},    # y(0) = 1\n",
    "    {'type': 'y\\'', 'value': 0.0, 'x': 0.0},  # y'(0) = 0\n",
    "]\n",
    "learning_rate = 0.001\n",
    "num_epochs = 1000"
   ]
  },
  {
   "cell_type": "code",
   "execution_count": 74,
   "id": "32017237-8f7b-4c84-b865-d22ed095d623",
   "metadata": {},
   "outputs": [],
   "source": [
    "def compute_energy_integral(net, x_range, num_points=1000):\n",
    "    \"\"\"Compute the integral of the energy functional over the specified x range.\"\"\"\n",
    "    x_min, x_max = x_range\n",
    "    x = torch.linspace(x_min, x_max, num_points).view(-1, 1)\n",
    "    x.requires_grad = True  \n",
    "    \n",
    "    y_pred = net(x)\n",
    "    dy_dx_pred = torch.autograd.grad(y_pred, x, torch.ones_like(y_pred), create_graph=True)[0]\n",
    "    \n",
    "    energy_vals = energy_functional(x, y_pred, dy_dx_pred)\n",
    "    \n",
    "    integral = torch.mean(energy_vals) * (x_max - x_min)\n",
    "    return integral ** 2"
   ]
  },
  {
   "cell_type": "code",
   "execution_count": 75,
   "id": "3b75caf3-f968-4a99-8744-3776398d771a",
   "metadata": {},
   "outputs": [],
   "source": [
    "def apply_initial_conditions(net, initial_conditions):\n",
    "    ivp_residuals = []\n",
    "    for ivp in initial_conditions:\n",
    "        x_ivp = torch.tensor([[ivp['x']]], requires_grad=True)\n",
    "        y_ivp = net(x_ivp)\n",
    "        \n",
    "        if ivp['type'] == 'y':\n",
    "            ivp_residual = y_ivp - ivp['value']\n",
    "        elif ivp['type'] == 'y\\'':\n",
    "            dy_dx_ivp = torch.autograd.grad(y_ivp, x_ivp, torch.ones_like(x_ivp), create_graph=True)[0]\n",
    "            ivp_residual = dy_dx_ivp - ivp['value']\n",
    "        \n",
    "        ivp_residuals.append(ivp_residual ** 2)\n",
    "    \n",
    "    return torch.sum(torch.stack([ivp**2 for ivp in ivp_residuals]))"
   ]
  },
  {
   "cell_type": "code",
   "execution_count": 76,
   "id": "316dfeec-a0b4-46be-a11d-8a5ab96c2eef",
   "metadata": {},
   "outputs": [],
   "source": [
    "def train(net, optimizer, x_range, initial_conditions, num_epochs):\n",
    "    for epoch in range(num_epochs):\n",
    "        optimizer.zero_grad()\n",
    "\n",
    "        # Compute the energy integral\n",
    "        energy_integral = compute_energy_integral(net, x_range)\n",
    "\n",
    "        # Apply initial condition residuals as constraints\n",
    "        ivp_residual = apply_initial_conditions(net, initial_conditions)\n",
    "\n",
    "        # Total loss: Energy integral + initial condition penalty\n",
    "        loss = energy_integral + ivp_residual\n",
    "        loss.backward()\n",
    "        optimizer.step()\n",
    "        # scheduler.step()\n",
    "        if epoch % 100 == 0:\n",
    "            print(f'Epoch {epoch}, Loss: {loss.item()}')"
   ]
  },
  {
   "cell_type": "code",
   "execution_count": 77,
   "id": "b457902e-4622-44e1-8a9d-3f9a847510c1",
   "metadata": {},
   "outputs": [],
   "source": [
    "net = Network(D_in, H, D_out)\n",
    "optimizer = optim.Adam(net.parameters(), lr=learning_rate, weight_decay=1e-5)\n",
    "\n",
    "# Initialize the learning rate scheduler\n",
    "# step_size = 100  # Number of epochs after which to decay the learning rate\n",
    "# gamma = 0.1      # Multiplicative factor of learning rate decay\n",
    "# scheduler = optim.lr_scheduler.StepLR(optimizer, step_size=step_size, gamma=gamma)\n",
    "# scheduler = optim.lr_scheduler.ReduceLROnPlateau(optimizer, mode='min', factor=0.5, patience=50, min_lr=1e-6)\n",
    "\n",
    "\n",
    "\n"
   ]
  },
  {
   "cell_type": "code",
   "execution_count": 78,
   "id": "22d12e86-d1ea-47af-8239-7f6bb7c35b4a",
   "metadata": {},
   "outputs": [
    {
     "name": "stdout",
     "output_type": "stream",
     "text": [
      "Epoch 0, Loss: 2.1762638092041016\n",
      "Epoch 100, Loss: 0.1354275643825531\n",
      "Epoch 200, Loss: 0.04226268455386162\n",
      "Epoch 300, Loss: 0.021155890077352524\n",
      "Epoch 400, Loss: 0.017522424459457397\n",
      "Epoch 500, Loss: 0.016619665548205376\n",
      "Epoch 600, Loss: 0.015912465751171112\n",
      "Epoch 700, Loss: 0.015143992379307747\n",
      "Epoch 800, Loss: 0.014291083440184593\n",
      "Epoch 900, Loss: 0.013348530977964401\n"
     ]
    }
   ],
   "source": [
    "train(net, optimizer, x_range, initial_conditions, num_epochs)"
   ]
  },
  {
   "cell_type": "code",
   "execution_count": 79,
   "id": "85f14769-c8a0-461f-88ac-566d7b00f334",
   "metadata": {},
   "outputs": [],
   "source": [
    "def visualize_solution(net, x_range):\n",
    "    x_min, x_max = x_range\n",
    "    x_values = np.linspace(x_min, x_max, 100)\n",
    "    x_tensor = torch.tensor(x_values, dtype=torch.float32).view(-1, 1)\n",
    "    y_pred = net(x_tensor).detach().numpy()\n",
    "\n",
    "    plt.plot(x_values, y_pred, label=\"DEM Solution\")\n",
    "    plt.xlabel(\"x\")\n",
    "    plt.ylabel(\"y(x)\")\n",
    "    plt.title(\"Solution of the Harmonic Oscillator via DEM\")\n",
    "    plt.legend()\n",
    "    plt.grid(True)\n",
    "    plt.show()"
   ]
  },
  {
   "cell_type": "code",
   "execution_count": 80,
   "id": "387ac691-419f-4084-994f-7595767047c5",
   "metadata": {},
   "outputs": [
    {
     "data": {
      "image/png": "[encoded data removed]",
      "text/plain": [
       "<Figure size 640x480 with 1 Axes>"
      ]
     },
     "metadata": {},
     "output_type": "display_data"
    }
   ],
   "source": [
    "visualize_solution(net, x_range)"
   ]
  },
  {
   "cell_type": "code",
   "execution_count": null,
   "id": "e5473488-2030-4874-ae36-77f83496db7c",
   "metadata": {},
   "outputs": [],
   "source": []
  }
 ],
 "metadata": {
  "kernelspec": {
   "display_name": "Python 3 (ipykernel)",
   "language": "python",
   "name": "python3"
  },
  "language_info": {
   "codemirror_mode": {
    "name": "ipython",
    "version": 3
   },
   "file_extension": ".py",
   "mimetype": "text/x-python",
   "name": "python",
   "nbconvert_exporter": "python",
   "pygments_lexer": "ipython3",
   "version": "3.12.3"
  }
 },
 "nbformat": 4,
 "nbformat_minor": 5
}
