{
 "cells": [
  {
   "cell_type": "code",
   "execution_count": 120,
   "id": "24c087e9-6e9d-4b15-bbd2-b6558b29abda",
   "metadata": {},
   "outputs": [],
   "source": [
    "import torch\n",
    "import torch.nn as nn\n",
    "import torch.optim as optim\n",
    "import numpy as np\n",
    "import matplotlib.pyplot as plt"
   ]
  },
  {
   "cell_type": "code",
   "execution_count": 121,
   "id": "d6e3fd35-bdce-49f6-9324-c22fcf76f085",
   "metadata": {},
   "outputs": [],
   "source": [
    "def energy_functional(x, y, dy_dx):\n",
    "    # Defines the energy functionalor aka the ODE/PDE based on the problem requirements. \n",
    "    # Here you can modify the functino yourself to match the energy function of your specific problem.\n",
    "    # Like as an examle, if it's elasticity, you can use function of strain energy\n",
    "    # Here, I defined a dummy function for simple demonstration.\n",
    "    return 0.5 * (dy_dx ** 2) - 0.5 *  (y ** 2)  # Example: strain energy with linear potential that I found online."
   ]
  },
  {
   "cell_type": "code",
   "execution_count": 122,
   "id": "adf32eed-1b93-4f03-b4db-7b019b8dc8f9",
   "metadata": {},
   "outputs": [],
   "source": [
    "x_range = (1.0, 10.0)  # Domain for the ODE\n",
    "initial_conditions = [\n",
    "    {'type': 'y', 'value': 1.0, 'x': 0.0},    # y(0) = 1\n",
    "    {'type': 'y\\'', 'value': 0.0, 'x': 0.0},  # y'(0) = 0\n",
    "]\n",
    "learning_rate = 0.001\n",
    "num_epochs = 1000"
   ]
  },
  {
   "cell_type": "code",
   "execution_count": 123,
   "id": "332c89ff-3081-46c7-864b-f88fd0e2a1f7",
   "metadata": {},
   "outputs": [],
   "source": [
    "class Network(nn.Module):\n",
    "    def __init__(self):\n",
    "        super(Network, self).__init__()\n",
    "        self.hidden_layer_1 = nn.Linear(1, 200)\n",
    "        self.hidden_layer_2 = nn.Linear(200, 200)\n",
    "        self.hidden_layer_3 = nn.Linear(200, 200)\n",
    "        self.output_layer = nn.Linear(200, 1)\n",
    "\n",
    "    def forward(self, x):\n",
    "        x = torch.sigmoid(self.hidden_layer_1(x))\n",
    "        x = torch.sigmoid(self.hidden_layer_2(x))\n",
    "        x = torch.sigmoid(self.hidden_layer_3(x))\n",
    "        x = self.output_layer(x)\n",
    "        return x"
   ]
  },
  {
   "cell_type": "code",
   "execution_count": 124,
   "id": "c11fd8d4-4d01-411a-9481-b6856039e593",
   "metadata": {},
   "outputs": [],
   "source": [
    "def compute_energy_integral(net, x_range, num_points=100):\n",
    "    \"\"\"Compute the integral of the energy functional over the specified x range.\"\"\"\n",
    "    x_min, x_max = x_range\n",
    "    x = torch.linspace(x_min, x_max, num_points).view(-1, 1)\n",
    "    x.requires_grad = True  \n",
    "    \n",
    "    y_pred = net(x)\n",
    "    dy_dx_pred = torch.autograd.grad(y_pred, x, torch.ones_like(y_pred), create_graph=True)[0]\n",
    "    \n",
    "    energy_vals = energy_functional(x, y_pred, dy_dx_pred)\n",
    "    \n",
    "    integral = torch.mean(energy_vals) * (x_max - x_min)\n",
    "    return integral"
   ]
  },
  {
   "cell_type": "code",
   "execution_count": 125,
   "id": "9b05de4e-8545-4d0b-9378-32abdf08eaa5",
   "metadata": {},
   "outputs": [],
   "source": [
    "def apply_initial_conditions(net, initial_conditions):\n",
    "    ivp_residuals = []\n",
    "    for ivp in initial_conditions:\n",
    "        x_ivp = torch.tensor([[ivp['x']]], requires_grad=True)\n",
    "        y_ivp = net(x_ivp)\n",
    "        \n",
    "        if ivp['type'] == 'y':\n",
    "            ivp_residual = y_ivp - ivp['value']\n",
    "        elif ivp['type'] == 'y\\'':\n",
    "            dy_dx_ivp = torch.autograd.grad(y_ivp, x_ivp, torch.ones_like(x_ivp), create_graph=True)[0]\n",
    "            ivp_residual = dy_dx_ivp - ivp['value']\n",
    "        \n",
    "        ivp_residuals.append(ivp_residual ** 2)\n",
    "    \n",
    "    return torch.sum(torch.stack([ivp**2 for ivp in ivp_residuals]))"
   ]
  },
  {
   "cell_type": "code",
   "execution_count": 126,
   "id": "9622026a-25b0-4b1b-a02d-0dedcbca9713",
   "metadata": {},
   "outputs": [],
   "source": [
    "def train(net, optimizer, x_range, initial_conditions, num_epochs):\n",
    "    for epoch in range(num_epochs):\n",
    "        optimizer.zero_grad()\n",
    "\n",
    "        # Compute the energy integral\n",
    "        energy_integral = compute_energy_integral(net, x_range)\n",
    "\n",
    "        # Apply initial condition residuals as constraints\n",
    "        ivp_residual = apply_initial_conditions(net, initial_conditions)\n",
    "\n",
    "        # Total loss: Energy integral + initial condition penalty\n",
    "        loss = energy_integral + ivp_residual\n",
    "        loss.backward()\n",
    "        optimizer.step()\n",
    "\n",
    "        if epoch % 10 == 0:\n",
    "            print(f'Epoch {epoch}, Loss: {loss.item()}')"
   ]
  },
  {
   "cell_type": "code",
   "execution_count": 127,
   "id": "90e20614-6e74-4638-8122-b2f27a2aa893",
   "metadata": {},
   "outputs": [],
   "source": [
    "net = Network()\n",
    "optimizer = optim.Adam(net.parameters(), lr=learning_rate)"
   ]
  },
  {
   "cell_type": "code",
   "execution_count": 128,
   "id": "8409d242-a6c3-4826-9753-b5ee6c28bd43",
   "metadata": {},
   "outputs": [
    {
     "name": "stdout",
     "output_type": "stream",
     "text": [
      "Epoch 0, Loss: 0.9205743074417114\n",
      "Epoch 10, Loss: -26.072837829589844\n",
      "Epoch 20, Loss: -33.848995208740234\n",
      "Epoch 30, Loss: -49.33385467529297\n",
      "Epoch 40, Loss: -84.80529022216797\n",
      "Epoch 50, Loss: -161.52215576171875\n",
      "Epoch 60, Loss: -284.47442626953125\n",
      "Epoch 70, Loss: -446.357421875\n",
      "Epoch 80, Loss: -641.791748046875\n",
      "Epoch 90, Loss: -872.68896484375\n",
      "Epoch 100, Loss: -1145.622314453125\n",
      "Epoch 110, Loss: -1470.7518310546875\n",
      "Epoch 120, Loss: -1846.708740234375\n",
      "Epoch 130, Loss: -2246.158935546875\n",
      "Epoch 140, Loss: -2664.105224609375\n",
      "Epoch 150, Loss: -3108.285888671875\n",
      "Epoch 160, Loss: -3580.726318359375\n",
      "Epoch 170, Loss: -4081.58935546875\n",
      "Epoch 180, Loss: -4610.87646484375\n",
      "Epoch 190, Loss: -5168.59228515625\n",
      "Epoch 200, Loss: -5754.73876953125\n",
      "Epoch 210, Loss: -6369.29541015625\n",
      "Epoch 220, Loss: -7012.236328125\n",
      "Epoch 230, Loss: -7683.52734375\n",
      "Epoch 240, Loss: -8383.130859375\n",
      "Epoch 250, Loss: -9111.005859375\n",
      "Epoch 260, Loss: -9867.1025390625\n",
      "Epoch 270, Loss: -10651.37109375\n",
      "Epoch 280, Loss: -11463.751953125\n",
      "Epoch 290, Loss: -12304.1884765625\n",
      "Epoch 300, Loss: -13172.615234375\n",
      "Epoch 310, Loss: -14068.970703125\n",
      "Epoch 320, Loss: -14993.1845703125\n",
      "Epoch 330, Loss: -15945.1826171875\n",
      "Epoch 340, Loss: -16924.896484375\n",
      "Epoch 350, Loss: -17932.259765625\n",
      "Epoch 360, Loss: -18967.181640625\n",
      "Epoch 370, Loss: -20029.595703125\n",
      "Epoch 380, Loss: -21119.42578125\n",
      "Epoch 390, Loss: -22236.583984375\n",
      "Epoch 400, Loss: -23381.0\n",
      "Epoch 410, Loss: -24552.58984375\n",
      "Epoch 420, Loss: -25751.255859375\n",
      "Epoch 430, Loss: -26976.94140625\n",
      "Epoch 440, Loss: -28229.54296875\n",
      "Epoch 450, Loss: -29508.98828125\n",
      "Epoch 460, Loss: -30815.185546875\n",
      "Epoch 470, Loss: -32148.060546875\n",
      "Epoch 480, Loss: -33507.51171875\n",
      "Epoch 490, Loss: -34893.47265625\n",
      "Epoch 500, Loss: -36305.83984375\n",
      "Epoch 510, Loss: -37744.55078125\n",
      "Epoch 520, Loss: -39209.5\n",
      "Epoch 530, Loss: -40700.61328125\n",
      "Epoch 540, Loss: -42217.79296875\n",
      "Epoch 550, Loss: -43760.9609375\n",
      "Epoch 560, Loss: -45330.04296875\n",
      "Epoch 570, Loss: -46924.93359375\n",
      "Epoch 580, Loss: -48545.5625\n",
      "Epoch 590, Loss: -50191.828125\n",
      "Epoch 600, Loss: -51863.65625\n",
      "Epoch 610, Loss: -53560.9765625\n",
      "Epoch 620, Loss: -55283.65625\n",
      "Epoch 630, Loss: -57031.66796875\n",
      "Epoch 640, Loss: -58804.8984375\n",
      "Epoch 650, Loss: -60603.2578125\n",
      "Epoch 660, Loss: -62426.671875\n",
      "Epoch 670, Loss: -64275.0703125\n",
      "Epoch 680, Loss: -66148.3515625\n",
      "Epoch 690, Loss: -68046.4296875\n",
      "Epoch 700, Loss: -69969.234375\n",
      "Epoch 710, Loss: -71916.671875\n",
      "Epoch 720, Loss: -73888.6796875\n",
      "Epoch 730, Loss: -75885.140625\n",
      "Epoch 740, Loss: -77905.9921875\n",
      "Epoch 750, Loss: -79951.1953125\n",
      "Epoch 760, Loss: -82020.59375\n",
      "Epoch 770, Loss: -84114.15625\n",
      "Epoch 780, Loss: -86231.78125\n",
      "Epoch 790, Loss: -88373.40625\n",
      "Epoch 800, Loss: -90538.9375\n",
      "Epoch 810, Loss: -92728.28125\n",
      "Epoch 820, Loss: -94941.40625\n",
      "Epoch 830, Loss: -97178.1875\n",
      "Epoch 840, Loss: -99438.5859375\n",
      "Epoch 850, Loss: -101722.4765625\n",
      "Epoch 860, Loss: -104029.8828125\n",
      "Epoch 870, Loss: -106360.6015625\n",
      "Epoch 880, Loss: -108714.5859375\n",
      "Epoch 890, Loss: -111091.8125\n",
      "Epoch 900, Loss: -113492.1953125\n",
      "Epoch 910, Loss: -115915.625\n",
      "Epoch 920, Loss: -118362.0390625\n",
      "Epoch 930, Loss: -120831.359375\n",
      "Epoch 940, Loss: -123323.5390625\n",
      "Epoch 950, Loss: -125838.4921875\n",
      "Epoch 960, Loss: -128376.125\n",
      "Epoch 970, Loss: -130936.3828125\n",
      "Epoch 980, Loss: -133519.1875\n",
      "Epoch 990, Loss: -136124.53125\n"
     ]
    }
   ],
   "source": [
    "train(net, optimizer, x_range, initial_conditions, num_epochs)"
   ]
  },
  {
   "cell_type": "code",
   "execution_count": 129,
   "id": "e3f4af9f-ddb0-4922-b821-a819aba4d28e",
   "metadata": {},
   "outputs": [],
   "source": [
    "def visualize_solution(net, x_range):\n",
    "    x_min, x_max = x_range\n",
    "    x_values = np.linspace(x_min, x_max, 100)\n",
    "    x_tensor = torch.tensor(x_values, dtype=torch.float32).view(-1, 1)\n",
    "    y_pred = net(x_tensor).detach().numpy()\n",
    "\n",
    "    plt.plot(x_values, y_pred, label=\"DEM Solution\")\n",
    "    plt.xlabel(\"x\")\n",
    "    plt.ylabel(\"y(x)\")\n",
    "    plt.title(\"Solution of the Harmonic Oscillator via DEM\")\n",
    "    plt.legend()\n",
    "    plt.grid(True)\n",
    "    plt.show()"
   ]
  },
  {
   "cell_type": "code",
   "execution_count": 130,
   "id": "b64d5eb2-1913-4e71-aa52-4b201d417044",
   "metadata": {},
   "outputs": [
    {
     "data": {
      "image/png": "[encoded data removed]",
      "text/plain": [
       "<Figure size 640x480 with 1 Axes>"
      ]
     },
     "metadata": {},
     "output_type": "display_data"
    }
   ],
   "source": [
    "visualize_solution(net, x_range)"
   ]
  }
 ],
 "metadata": {
  "kernelspec": {
   "display_name": "Python 3 (ipykernel)",
   "language": "python",
   "name": "python3"
  },
  "language_info": {
   "codemirror_mode": {
    "name": "ipython",
    "version": 3
   },
   "file_extension": ".py",
   "mimetype": "text/x-python",
   "name": "python",
   "nbconvert_exporter": "python",
   "pygments_lexer": "ipython3",
   "version": "3.12.3"
  }
 },
 "nbformat": 4,
 "nbformat_minor": 5
}
