{
 "cells": [
  {
   "cell_type": "code",
   "execution_count": 29,
   "id": "39948bf5-8768-43f2-a5d6-7026f6b5d067",
   "metadata": {},
   "outputs": [],
   "source": [
    "import torch\n",
    "import torch.nn as nn\n",
    "import torch.optim as optim\n",
    "import numpy as np\n",
    "import matplotlib.pyplot as plt"
   ]
  },
  {
   "cell_type": "code",
   "execution_count": 30,
   "id": "e14de157-e988-4805-b350-930c6de63854",
   "metadata": {},
   "outputs": [],
   "source": [
    "def energy_functional(x, y, dy_dx):\n",
    "    # Defines the energy functionalor aka the ODE/PDE based on the problem requirements. \n",
    "    # Here you can modify the functino yourself to match the energy function of your specific problem.\n",
    "    # Like as an examle, if it's elasticity, you can use function of strain energy\n",
    "    # Here, I defined a dummy function for simple demonstration.\n",
    "    return 0.5 * (dy_dx ** 2) - x * y  # Example: strain energy with linear potential that I found online."
   ]
  },
  {
   "cell_type": "code",
   "execution_count": 31,
   "id": "1e12e15c-0883-4af5-af21-3d9b0bd89fbc",
   "metadata": {},
   "outputs": [],
   "source": [
    "x_range = (0.1, 10)  # Range for x\n",
    "initial_conditions = [\n",
    "    {'type': 'y', 'value': 2.0, 'x': 1.0},    # y(0) = 0\n",
    "    {'type': 'y\\'', 'value': 0.0, 'x': 1.0},  # y'(0) = 1\n",
    "    #{'type': 'y', 'value': 0.0, 'x': 2 * np.pi},  # y(2*pi) = 0\n",
    "    # Additional initial conditions can be added if needed\n",
    "    # {'type': 'y', 'value': ..., 'x': ...},\n",
    "    # {'type': 'y\\'', 'value': ..., 'x': ...}\n",
    "]"
   ]
  },
  {
   "cell_type": "code",
   "execution_count": 32,
   "id": "b9a89d2a-f933-42c3-bf25-0a1378ea55c0",
   "metadata": {},
   "outputs": [],
   "source": [
    "learning_rate = 0.001 \n",
    "num_epochs = 1000 "
   ]
  },
  {
   "cell_type": "code",
   "execution_count": 33,
   "id": "b42a2557-fb5b-4ef0-86a3-bf9ede2054b0",
   "metadata": {},
   "outputs": [],
   "source": [
    "class Network(nn.Module):\n",
    "    def __init__(self):\n",
    "        super(Network, self).__init__()\n",
    "        self.hidden_layer_1 = nn.Linear(1, 200)\n",
    "        self.hidden_layer_2 = nn.Linear(200, 200)\n",
    "        self.hidden_layer_3 = nn.Linear(200, 200)\n",
    "        self.output_layer = nn.Linear(200, 1)\n",
    "\n",
    "    def forward(self, x):\n",
    "        x = torch.sigmoid(self.hidden_layer_1(x))\n",
    "        x = torch.sigmoid(self.hidden_layer_2(x))\n",
    "        x = torch.sigmoid(self.hidden_layer_3(x))\n",
    "        x = self.output_layer(x)\n",
    "        return x"
   ]
  },
  {
   "cell_type": "code",
   "execution_count": 34,
   "id": "6175fba2-e4e9-42bb-acbf-72e4e581a44e",
   "metadata": {},
   "outputs": [],
   "source": [
    "def compute_energy_residual(x, net):\n",
    "    # Calculating the energy residual from the energy functional\n",
    "    y = net(x)  # Network approximation of y(x)\n",
    "    dy_dx = torch.autograd.grad(y, x, torch.ones_like(y), create_graph=True)[0]\n",
    "    \n",
    "    # Energy functional\n",
    "    energy = energy_functional(x, y, dy_dx)\n",
    "    return energy"
   ]
  },
  {
   "cell_type": "code",
   "execution_count": 35,
   "id": "7fd689a6-0ada-4fa3-b1f6-7332207a9981",
   "metadata": {},
   "outputs": [],
   "source": [
    "def apply_initial_conditions(net, initial_conditions):\n",
    "    ivp_residuals = []\n",
    "    for ivp in initial_conditions:\n",
    "        x_ivp = torch.tensor([[ivp['x']]], requires_grad=True)  # Boundary point\n",
    "        y_ivp = net(x_ivp)  # Predict y(x_ivp)\n",
    "\n",
    "        if ivp['type'] == 'y':\n",
    "            ivp_residual = y_ivp - ivp['value']  # y(x) = given value\n",
    "        elif ivp['type'] == 'y\\'':\n",
    "            dy_dx_ivp = torch.autograd.grad(y_ivp, x_ivp, torch.ones_like(x_ivp), create_graph=True)[0]\n",
    "            ivp_residual = dy_dx_ivp - ivp['value']\n",
    "        \n",
    "        ivp_residuals.append(ivp_residual ** 2)\n",
    "    \n",
    "    return torch.sum(torch.stack([ivp**2 for ivp in ivp_residuals]))"
   ]
  },
  {
   "cell_type": "code",
   "execution_count": 36,
   "id": "4950a133-358c-4ec0-a179-ac6ca6616292",
   "metadata": {},
   "outputs": [],
   "source": [
    "def train(net, optimizer, x_range, initial_conditions, num_epochs):\n",
    "    x_min, x_max = x_range\n",
    "    for epoch in range(num_epochs):\n",
    "        optimizer.zero_grad()\n",
    "\n",
    "        # Sample points in the domain x\n",
    "        x = torch.linspace(x_min, x_max, 100).view(-1, 1)\n",
    "        x.requires_grad = True\n",
    "\n",
    "        # Calculate the energy residual\n",
    "        energy_residual = compute_energy_residual(x, net)\n",
    "\n",
    "        # Initial condition residual\n",
    "        ivp_residual = apply_initial_conditions(net, initial_conditions)\n",
    "\n",
    "        # Total loss: Minimize energy functional plus initial conditions\n",
    "        loss = torch.mean(energy_residual) + ivp_residual\n",
    "        loss.backward()\n",
    "        optimizer.step()\n",
    "\n",
    "        if epoch % 10 == 0:\n",
    "            print(f'Epoch {epoch}, Loss: {loss.item()}')"
   ]
  },
  {
   "cell_type": "code",
   "execution_count": 37,
   "id": "f1e41e1e-9f4c-4456-bb5a-a2cab0602d46",
   "metadata": {},
   "outputs": [],
   "source": [
    "net = Network()\n",
    "optimizer = optim.Adam(net.parameters(), lr=learning_rate)"
   ]
  },
  {
   "cell_type": "code",
   "execution_count": 38,
   "id": "46c0641e-14dd-4a82-9082-4c1ebaa26325",
   "metadata": {},
   "outputs": [
    {
     "name": "stdout",
     "output_type": "stream",
     "text": [
      "Epoch 0, Loss: 30.959320068359375\n",
      "Epoch 10, Loss: -10.61984920501709\n",
      "Epoch 20, Loss: -13.630741119384766\n",
      "Epoch 30, Loss: -14.822144508361816\n",
      "Epoch 40, Loss: -15.064327239990234\n",
      "Epoch 50, Loss: -15.892134666442871\n",
      "Epoch 60, Loss: -16.70509147644043\n",
      "Epoch 70, Loss: -17.840951919555664\n",
      "Epoch 80, Loss: -19.402250289916992\n",
      "Epoch 90, Loss: -21.333568572998047\n",
      "Epoch 100, Loss: -23.613794326782227\n",
      "Epoch 110, Loss: -26.25153160095215\n",
      "Epoch 120, Loss: -29.209272384643555\n",
      "Epoch 130, Loss: -32.387691497802734\n",
      "Epoch 140, Loss: -35.67857360839844\n",
      "Epoch 150, Loss: -39.06236267089844\n",
      "Epoch 160, Loss: -42.69306564331055\n",
      "Epoch 170, Loss: -46.72561264038086\n",
      "Epoch 180, Loss: -51.03428268432617\n",
      "Epoch 190, Loss: -55.52202606201172\n",
      "Epoch 200, Loss: -60.071128845214844\n",
      "Epoch 210, Loss: -64.59954071044922\n",
      "Epoch 220, Loss: -69.06826782226562\n",
      "Epoch 230, Loss: -73.48702239990234\n",
      "Epoch 240, Loss: -77.8929214477539\n",
      "Epoch 250, Loss: -82.32173156738281\n",
      "Epoch 260, Loss: -86.8308334350586\n",
      "Epoch 270, Loss: -91.39431762695312\n",
      "Epoch 280, Loss: -96.00139617919922\n",
      "Epoch 290, Loss: -100.58411407470703\n",
      "Epoch 300, Loss: -105.09687042236328\n",
      "Epoch 310, Loss: -109.52240753173828\n",
      "Epoch 320, Loss: -113.86555480957031\n",
      "Epoch 330, Loss: -118.14095306396484\n",
      "Epoch 340, Loss: -122.35555267333984\n",
      "Epoch 350, Loss: -126.51313018798828\n",
      "Epoch 360, Loss: -130.61619567871094\n",
      "Epoch 370, Loss: -134.6708526611328\n",
      "Epoch 380, Loss: -138.67837524414062\n",
      "Epoch 390, Loss: -142.63426208496094\n",
      "Epoch 400, Loss: -146.52847290039062\n",
      "Epoch 410, Loss: -150.36325073242188\n",
      "Epoch 420, Loss: -154.151123046875\n",
      "Epoch 430, Loss: -157.9075469970703\n",
      "Epoch 440, Loss: -161.6168975830078\n",
      "Epoch 450, Loss: -165.2884979248047\n",
      "Epoch 460, Loss: -168.92454528808594\n",
      "Epoch 470, Loss: -172.52149963378906\n",
      "Epoch 480, Loss: -176.0824432373047\n",
      "Epoch 490, Loss: -179.60887145996094\n",
      "Epoch 500, Loss: -183.10116577148438\n",
      "Epoch 510, Loss: -186.5601043701172\n",
      "Epoch 520, Loss: -189.9862823486328\n",
      "Epoch 530, Loss: -193.38003540039062\n",
      "Epoch 540, Loss: -196.7132568359375\n",
      "Epoch 550, Loss: -198.8400115966797\n",
      "Epoch 560, Loss: -203.0233917236328\n",
      "Epoch 570, Loss: -206.4300079345703\n",
      "Epoch 580, Loss: -209.70677185058594\n",
      "Epoch 590, Loss: -212.92189025878906\n",
      "Epoch 600, Loss: -216.08143615722656\n",
      "Epoch 610, Loss: -219.20388793945312\n",
      "Epoch 620, Loss: -222.30148315429688\n",
      "Epoch 630, Loss: -225.3704376220703\n",
      "Epoch 640, Loss: -228.41305541992188\n",
      "Epoch 650, Loss: -231.42889404296875\n",
      "Epoch 660, Loss: -234.41844177246094\n",
      "Epoch 670, Loss: -237.38172912597656\n",
      "Epoch 680, Loss: -240.31884765625\n",
      "Epoch 690, Loss: -243.22991943359375\n",
      "Epoch 700, Loss: -246.1151885986328\n",
      "Epoch 710, Loss: -248.97494506835938\n",
      "Epoch 720, Loss: -251.8096466064453\n",
      "Epoch 730, Loss: -254.6197509765625\n",
      "Epoch 740, Loss: -257.40576171875\n",
      "Epoch 750, Loss: -260.1681213378906\n",
      "Epoch 760, Loss: -262.9072570800781\n",
      "Epoch 770, Loss: -265.6235046386719\n",
      "Epoch 780, Loss: -268.3172912597656\n",
      "Epoch 790, Loss: -270.9887390136719\n",
      "Epoch 800, Loss: -273.6381530761719\n",
      "Epoch 810, Loss: -276.2657470703125\n",
      "Epoch 820, Loss: -278.87164306640625\n",
      "Epoch 830, Loss: -281.4560241699219\n",
      "Epoch 840, Loss: -284.0192565917969\n",
      "Epoch 850, Loss: -286.5616455078125\n",
      "Epoch 860, Loss: -289.0835266113281\n",
      "Epoch 870, Loss: -291.585205078125\n",
      "Epoch 880, Loss: -294.06695556640625\n",
      "Epoch 890, Loss: -296.5290222167969\n",
      "Epoch 900, Loss: -298.9717712402344\n",
      "Epoch 910, Loss: -301.3952941894531\n",
      "Epoch 920, Loss: -303.7999267578125\n",
      "Epoch 930, Loss: -306.18572998046875\n",
      "Epoch 940, Loss: -308.5528869628906\n",
      "Epoch 950, Loss: -310.9017028808594\n",
      "Epoch 960, Loss: -313.23211669921875\n",
      "Epoch 970, Loss: -315.5444641113281\n",
      "Epoch 980, Loss: -317.8389587402344\n",
      "Epoch 990, Loss: -320.1156921386719\n"
     ]
    }
   ],
   "source": [
    "train(net, optimizer, x_range, initial_conditions, num_epochs)"
   ]
  },
  {
   "cell_type": "code",
   "execution_count": 39,
   "id": "0bd0584f-5fb2-45fa-9fc7-3040626cb1b5",
   "metadata": {},
   "outputs": [],
   "source": [
    "def visualize_solution(net, x_range):\n",
    "    x_min, x_max = x_range\n",
    "    x_values = np.linspace(x_min, x_max, 100)\n",
    "    x_tensor = torch.tensor(x_values, dtype=torch.float32).view(-1, 1)\n",
    "    y_pred = net(x_tensor).detach().numpy()\n",
    "\n",
    "    plt.plot(x_values, y_pred, label=\"DEM Solution\")\n",
    "    plt.xlabel(\"x\")\n",
    "    plt.ylabel(\"y(x)\")\n",
    "    plt.title(\"Solution of the ODE learned by the Neural Network (DEM)\")\n",
    "    plt.legend()\n",
    "    plt.grid(True)\n",
    "    plt.show()"
   ]
  },
  {
   "cell_type": "code",
   "execution_count": 40,
   "id": "93afadb1-5eab-4777-b184-907255cf2ac9",
   "metadata": {},
   "outputs": [
    {
     "data": {
      "image/png": "[encoded data removed]",
      "text/plain": [
       "<Figure size 640x480 with 1 Axes>"
      ]
     },
     "metadata": {},
     "output_type": "display_data"
    }
   ],
   "source": [
    "visualize_solution(net, x_range)"
   ]
  },
  {
   "cell_type": "code",
   "execution_count": null,
   "id": "bf7fab5f-e35e-459d-91d0-69a0886789b6",
   "metadata": {},
   "outputs": [],
   "source": []
  }
 ],
 "metadata": {
  "kernelspec": {
   "display_name": "Python 3 (ipykernel)",
   "language": "python",
   "name": "python3"
  },
  "language_info": {
   "codemirror_mode": {
    "name": "ipython",
    "version": 3
   },
   "file_extension": ".py",
   "mimetype": "text/x-python",
   "name": "python",
   "nbconvert_exporter": "python",
   "pygments_lexer": "ipython3",
   "version": "3.12.3"
  }
 },
 "nbformat": 4,
 "nbformat_minor": 5
}
