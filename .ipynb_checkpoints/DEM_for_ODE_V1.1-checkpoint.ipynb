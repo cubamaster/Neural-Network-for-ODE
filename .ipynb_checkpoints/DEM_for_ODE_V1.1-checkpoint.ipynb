{
 "cells": [
  {
   "cell_type": "code",
   "execution_count": 79,
   "id": "24c087e9-6e9d-4b15-bbd2-b6558b29abda",
   "metadata": {},
   "outputs": [],
   "source": [
    "import torch\n",
    "import torch.nn as nn\n",
    "import torch.optim as optim\n",
    "import numpy as np\n",
    "import matplotlib.pyplot as plt"
   ]
  },
  {
   "cell_type": "code",
   "execution_count": 80,
   "id": "d6e3fd35-bdce-49f6-9324-c22fcf76f085",
   "metadata": {},
   "outputs": [],
   "source": [
    "def energy_functional(x, y, dy_dx):\n",
    "    # Defines the energy functionalor aka the ODE/PDE based on the problem requirements. \n",
    "    # Here you can modify the functino yourself to match the energy function of your specific problem.\n",
    "    # Like as an examle, if it's elasticity, you can use function of strain energy\n",
    "    # Here, I defined a dummy function for simple demonstration.\n",
    "    return 0.5 * (dy_dx ** 2) - 0.5 *  (y ** 2)  # Example: strain energy with linear potential that I found online."
   ]
  },
  {
   "cell_type": "code",
   "execution_count": 81,
   "id": "adf32eed-1b93-4f03-b4db-7b019b8dc8f9",
   "metadata": {},
   "outputs": [],
   "source": [
    "x_range = (0.0, 2 * np.pi)  # Domain for the ODE\n",
    "initial_conditions = [\n",
    "    {'type': 'y', 'value': 1.0, 'x': 0.0},    # y(0) = 1\n",
    "    {'type': 'y\\'', 'value': 0.0, 'x': 0.0},  # y'(0) = 0\n",
    "]\n",
    "learning_rate = 0.001\n",
    "num_epochs = 1000"
   ]
  },
  {
   "cell_type": "code",
   "execution_count": 82,
   "id": "332c89ff-3081-46c7-864b-f88fd0e2a1f7",
   "metadata": {},
   "outputs": [],
   "source": [
    "class Network(nn.Module):\n",
    "    def __init__(self):\n",
    "        super(Network, self).__init__()\n",
    "        self.hidden_layer_1 = nn.Linear(1, 200)\n",
    "        self.hidden_layer_2 = nn.Linear(200, 200)\n",
    "        self.hidden_layer_3 = nn.Linear(200, 200)\n",
    "        self.output_layer = nn.Linear(200, 1)\n",
    "\n",
    "    def forward(self, x):\n",
    "        x = torch.sigmoid(self.hidden_layer_1(x))\n",
    "        x = torch.sigmoid(self.hidden_layer_2(x))\n",
    "        x = torch.sigmoid(self.hidden_layer_3(x))\n",
    "        x = self.output_layer(x)\n",
    "        return x"
   ]
  },
  {
   "cell_type": "code",
   "execution_count": 83,
   "id": "c11fd8d4-4d01-411a-9481-b6856039e593",
   "metadata": {},
   "outputs": [],
   "source": [
    "def compute_energy_integral(net, x_range, num_points=1000):\n",
    "    \"\"\"Compute the integral of the energy functional over the specified x range.\"\"\"\n",
    "    x_min, x_max = x_range\n",
    "    x = torch.linspace(x_min, x_max, num_points).view(-1, 1)\n",
    "    x.requires_grad = True  \n",
    "    \n",
    "    y_pred = net(x)\n",
    "    dy_dx_pred = torch.autograd.grad(y_pred, x, torch.ones_like(y_pred), create_graph=True)[0]\n",
    "    \n",
    "    energy_vals = energy_functional(x, y_pred, dy_dx_pred)\n",
    "    \n",
    "    integral = torch.mean(energy_vals) * (x_max - x_min)\n",
    "    return integral ** 2"
   ]
  },
  {
   "cell_type": "code",
   "execution_count": 84,
   "id": "9b05de4e-8545-4d0b-9378-32abdf08eaa5",
   "metadata": {},
   "outputs": [],
   "source": [
    "def apply_initial_conditions(net, initial_conditions):\n",
    "    ivp_residuals = []\n",
    "    for ivp in initial_conditions:\n",
    "        x_ivp = torch.tensor([[ivp['x']]], requires_grad=True)\n",
    "        y_ivp = net(x_ivp)\n",
    "        \n",
    "        if ivp['type'] == 'y':\n",
    "            ivp_residual = y_ivp - ivp['value']\n",
    "        elif ivp['type'] == 'y\\'':\n",
    "            dy_dx_ivp = torch.autograd.grad(y_ivp, x_ivp, torch.ones_like(x_ivp), create_graph=True)[0]\n",
    "            ivp_residual = dy_dx_ivp - ivp['value']\n",
    "        \n",
    "        ivp_residuals.append(ivp_residual ** 2)\n",
    "    \n",
    "    return torch.sum(torch.stack([ivp**2 for ivp in ivp_residuals]))"
   ]
  },
  {
   "cell_type": "code",
   "execution_count": 85,
   "id": "9622026a-25b0-4b1b-a02d-0dedcbca9713",
   "metadata": {},
   "outputs": [],
   "source": [
    "def train(net, optimizer, x_range, initial_conditions, num_epochs):\n",
    "    for epoch in range(num_epochs):\n",
    "        optimizer.zero_grad()\n",
    "\n",
    "        # Compute the energy integral\n",
    "        energy_integral = compute_energy_integral(net, x_range)\n",
    "\n",
    "        # Apply initial condition residuals as constraints\n",
    "        ivp_residual = apply_initial_conditions(net, initial_conditions)\n",
    "\n",
    "        # Total loss: Energy integral + initial condition penalty\n",
    "        loss = energy_integral + ivp_residual\n",
    "        loss.backward()\n",
    "        optimizer.step()\n",
    "\n",
    "        if epoch % 10 == 0:\n",
    "            print(f'Epoch {epoch}, Loss: {loss.item()}')"
   ]
  },
  {
   "cell_type": "code",
   "execution_count": 86,
   "id": "90e20614-6e74-4638-8122-b2f27a2aa893",
   "metadata": {},
   "outputs": [],
   "source": [
    "net = Network()\n",
    "optimizer = optim.Adam(net.parameters(), lr=learning_rate)"
   ]
  },
  {
   "cell_type": "code",
   "execution_count": 87,
   "id": "8409d242-a6c3-4826-9753-b5ee6c28bd43",
   "metadata": {},
   "outputs": [
    {
     "name": "stdout",
     "output_type": "stream",
     "text": [
      "Epoch 0, Loss: 2.672703981399536\n",
      "Epoch 10, Loss: 0.5703977942466736\n",
      "Epoch 20, Loss: 0.37124329805374146\n",
      "Epoch 30, Loss: 0.256753534078598\n",
      "Epoch 40, Loss: 0.18591764569282532\n",
      "Epoch 50, Loss: 0.13651901483535767\n",
      "Epoch 60, Loss: 0.0958750993013382\n",
      "Epoch 70, Loss: 0.06505418568849564\n",
      "Epoch 80, Loss: 0.045470841228961945\n",
      "Epoch 90, Loss: 0.03541984781622887\n",
      "Epoch 100, Loss: 0.03137720003724098\n",
      "Epoch 110, Loss: 0.03016466647386551\n",
      "Epoch 120, Loss: 0.02987081930041313\n",
      "Epoch 130, Loss: 0.02971569076180458\n",
      "Epoch 140, Loss: 0.029531456530094147\n",
      "Epoch 150, Loss: 0.029329029843211174\n",
      "Epoch 160, Loss: 0.029122989624738693\n",
      "Epoch 170, Loss: 0.028911573812365532\n",
      "Epoch 180, Loss: 0.02868998423218727\n",
      "Epoch 190, Loss: 0.02845577895641327\n",
      "Epoch 200, Loss: 0.028207872062921524\n",
      "Epoch 210, Loss: 0.02794536203145981\n",
      "Epoch 220, Loss: 0.027667097747325897\n",
      "Epoch 230, Loss: 0.027371888980269432\n",
      "Epoch 240, Loss: 0.027058381587266922\n",
      "Epoch 250, Loss: 0.026725133880972862\n",
      "Epoch 260, Loss: 0.026370618492364883\n",
      "Epoch 270, Loss: 0.025993211194872856\n",
      "Epoch 280, Loss: 0.025591205805540085\n",
      "Epoch 290, Loss: 0.02516287937760353\n",
      "Epoch 300, Loss: 0.024706460535526276\n",
      "Epoch 310, Loss: 0.024220257997512817\n",
      "Epoch 320, Loss: 0.023702634498476982\n",
      "Epoch 330, Loss: 0.0231520626693964\n",
      "Epoch 340, Loss: 0.022567225620150566\n",
      "Epoch 350, Loss: 0.02194707654416561\n",
      "Epoch 360, Loss: 0.021290883421897888\n",
      "Epoch 370, Loss: 0.020598357543349266\n",
      "Epoch 380, Loss: 0.019869662821292877\n",
      "Epoch 390, Loss: 0.01910557970404625\n",
      "Epoch 400, Loss: 0.018307503312826157\n",
      "Epoch 410, Loss: 0.01747754216194153\n",
      "Epoch 420, Loss: 0.016618629917502403\n",
      "Epoch 430, Loss: 0.01573452539741993\n",
      "Epoch 440, Loss: 0.014829819090664387\n",
      "Epoch 450, Loss: 0.013910054229199886\n",
      "Epoch 460, Loss: 0.012981556355953217\n",
      "Epoch 470, Loss: 0.012051435187458992\n",
      "Epoch 480, Loss: 0.011127462610602379\n",
      "Epoch 490, Loss: 0.010217815637588501\n",
      "Epoch 500, Loss: 0.009330878034234047\n",
      "Epoch 510, Loss: 0.008474894799292088\n",
      "Epoch 520, Loss: 0.007657592184841633\n",
      "Epoch 530, Loss: 0.0068858591839671135\n",
      "Epoch 540, Loss: 0.006165340077131987\n",
      "Epoch 550, Loss: 0.0055001527070999146\n",
      "Epoch 560, Loss: 0.004892728757113218\n",
      "Epoch 570, Loss: 0.004343757405877113\n",
      "Epoch 580, Loss: 0.0038522828835994005\n",
      "Epoch 590, Loss: 0.0034159128554165363\n",
      "Epoch 600, Loss: 0.003031152533367276\n",
      "Epoch 610, Loss: 0.002693760907277465\n",
      "Epoch 620, Loss: 0.0023990701884031296\n",
      "Epoch 630, Loss: 0.0021423327270895243\n",
      "Epoch 640, Loss: 0.0019189120503142476\n",
      "Epoch 650, Loss: 0.0017244897317141294\n",
      "Epoch 660, Loss: 0.0015551192918792367\n",
      "Epoch 670, Loss: 0.0014073146739974618\n",
      "Epoch 680, Loss: 0.0012780064716935158\n",
      "Epoch 690, Loss: 0.0011645510094240308\n",
      "Epoch 700, Loss: 0.0010646898299455643\n",
      "Epoch 710, Loss: 0.0009764927672222257\n",
      "Epoch 720, Loss: 0.0008983240695670247\n",
      "Epoch 730, Loss: 0.0008287961827591062\n",
      "Epoch 740, Loss: 0.0007667365716770291\n",
      "Epoch 750, Loss: 0.0007111533777788281\n",
      "Epoch 760, Loss: 0.0006612055003643036\n",
      "Epoch 770, Loss: 0.0006161722703836858\n",
      "Epoch 780, Loss: 0.0005754460580646992\n",
      "Epoch 790, Loss: 0.0005385010153986514\n",
      "Epoch 800, Loss: 0.0005048942985013127\n",
      "Epoch 810, Loss: 0.00047423772048205137\n",
      "Epoch 820, Loss: 0.00044620013795793056\n",
      "Epoch 830, Loss: 0.00042049327748827636\n",
      "Epoch 840, Loss: 0.0003968672826886177\n",
      "Epoch 850, Loss: 0.00037510599941015244\n",
      "Epoch 860, Loss: 0.0003550196997821331\n",
      "Epoch 870, Loss: 0.0003364376607351005\n",
      "Epoch 880, Loss: 0.00031921896152198315\n",
      "Epoch 890, Loss: 0.0003032306849490851\n",
      "Epoch 900, Loss: 0.0002883585693780333\n",
      "Epoch 910, Loss: 0.0002745033416431397\n",
      "Epoch 920, Loss: 0.00026157169486396015\n",
      "Epoch 930, Loss: 0.00024948568898253143\n",
      "Epoch 940, Loss: 0.00023817375767976046\n",
      "Epoch 950, Loss: 0.00022757015540264547\n",
      "Epoch 960, Loss: 0.00021761690732091665\n",
      "Epoch 970, Loss: 0.00020826411491725594\n",
      "Epoch 980, Loss: 0.00019946222892031074\n",
      "Epoch 990, Loss: 0.0001911704894155264\n"
     ]
    }
   ],
   "source": [
    "train(net, optimizer, x_range, initial_conditions, num_epochs)"
   ]
  },
  {
   "cell_type": "code",
   "execution_count": 88,
   "id": "e3f4af9f-ddb0-4922-b821-a819aba4d28e",
   "metadata": {},
   "outputs": [],
   "source": [
    "def visualize_solution(net, x_range):\n",
    "    x_min, x_max = x_range\n",
    "    x_values = np.linspace(x_min, x_max, 100)\n",
    "    x_tensor = torch.tensor(x_values, dtype=torch.float32).view(-1, 1)\n",
    "    y_pred = net(x_tensor).detach().numpy()\n",
    "\n",
    "    plt.plot(x_values, y_pred, label=\"DEM Solution\")\n",
    "    plt.xlabel(\"x\")\n",
    "    plt.ylabel(\"y(x)\")\n",
    "    plt.title(\"Solution of the Harmonic Oscillator via DEM\")\n",
    "    plt.legend()\n",
    "    plt.grid(True)\n",
    "    plt.show()"
   ]
  },
  {
   "cell_type": "code",
   "execution_count": 89,
   "id": "b64d5eb2-1913-4e71-aa52-4b201d417044",
   "metadata": {},
   "outputs": [
    {
     "data": {
      "image/png": "[encoded data removed]",
      "text/plain": [
       "<Figure size 640x480 with 1 Axes>"
      ]
     },
     "metadata": {},
     "output_type": "display_data"
    }
   ],
   "source": [
    "visualize_solution(net, x_range)"
   ]
  }
 ],
 "metadata": {
  "kernelspec": {
   "display_name": "Python 3 (ipykernel)",
   "language": "python",
   "name": "python3"
  },
  "language_info": {
   "codemirror_mode": {
    "name": "ipython",
    "version": 3
   },
   "file_extension": ".py",
   "mimetype": "text/x-python",
   "name": "python",
   "nbconvert_exporter": "python",
   "pygments_lexer": "ipython3",
   "version": "3.12.3"
  }
 },
 "nbformat": 4,
 "nbformat_minor": 5
}
