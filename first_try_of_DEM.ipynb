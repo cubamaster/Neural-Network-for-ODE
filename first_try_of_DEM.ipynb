{
 "cells": [
  {
   "cell_type": "code",
   "execution_count": 1,
   "id": "07107c00-4c9d-449a-ae46-d9b8fdb99ad5",
   "metadata": {},
   "outputs": [],
   "source": [
    "import torch\n",
    "import torch.nn as nn\n",
    "import torch.optim as optim\n"
   ]
  },
  {
   "cell_type": "code",
   "execution_count": 2,
   "id": "d5ad8fbe-3e94-470b-bb04-d5596efed132",
   "metadata": {},
   "outputs": [],
   "source": [
    "class DEMNet(nn.Module):\n",
    "    def __init__(self, input_dim, hidden_dim, output_dim, num_layers=4):\n",
    "        super(DEMNet, self).__init__()\n",
    "        layers = [nn.Linear(input_dim, hidden_dim), nn.Tanh()]\n",
    "        for _ in range(num_layers - 1):\n",
    "            layers += [nn.Linear(hidden_dim, hidden_dim), nn.Tanh()]\n",
    "        layers += [nn.Linear(hidden_dim, output_dim)]\n",
    "        self.model = nn.Sequential(*layers)\n",
    "\n",
    "    def forward(self, x):\n",
    "        return self.model(x)"
   ]
  },
  {
   "cell_type": "code",
   "execution_count": 3,
   "id": "a37d630d-8aa5-467d-8f37-c751c20bd14b",
   "metadata": {},
   "outputs": [],
   "source": [
    "def energy_functional(u_pred, x):\n",
    "    # Assuming a 1D example of linear elasticity, we can define a simple strain energy\n",
    "    # as an example; this function must be adapted to your specific application.\n",
    "    u_x = torch.autograd.grad(u_pred, x, grad_outputs=torch.ones_like(u_pred), create_graph=True)[0]\n",
    "    energy = torch.sum(0.5 * (u_x ** 2))  # Strain energy example (for linear elasticity)\n",
    "    return energy\n",
    "\n"
   ]
  },
  {
   "cell_type": "code",
   "execution_count": 4,
   "id": "65d658eb-72dc-411d-ba0c-5d41b799cb00",
   "metadata": {},
   "outputs": [],
   "source": [
    "def train(model, optimizer, x, epochs=1000):\n",
    "    model.train()\n",
    "    for epoch in range(epochs):\n",
    "        optimizer.zero_grad()\n",
    "        u_pred = model(x)\n",
    "        energy = energy_functional(u_pred, x)\n",
    "        energy.backward()\n",
    "        optimizer.step()\n",
    "        \n",
    "        if epoch % 100 == 0:\n",
    "            print(f'Epoch {epoch}: Energy = {energy.item()}')"
   ]
  },
  {
   "cell_type": "code",
   "execution_count": 5,
   "id": "86ad531e-6e65-4809-af05-afc28eaebd13",
   "metadata": {},
   "outputs": [
    {
     "name": "stdout",
     "output_type": "stream",
     "text": [
      "Epoch 0: Energy = 0.06570553779602051\n",
      "Epoch 100: Energy = 4.560104571282864e-06\n",
      "Epoch 200: Energy = 1.842128881435201e-06\n",
      "Epoch 300: Energy = 7.893568181316368e-07\n",
      "Epoch 400: Energy = 3.622546103088098e-07\n",
      "Epoch 500: Energy = 2.2807618904607807e-07\n",
      "Epoch 600: Energy = 1.9321160493745992e-07\n",
      "Epoch 700: Energy = 1.8379013511093945e-07\n",
      "Epoch 800: Energy = 1.7925103179550206e-07\n",
      "Epoch 900: Energy = 1.7527065665490227e-07\n"
     ]
    }
   ],
   "source": [
    "x = torch.linspace(0, 1, 100, requires_grad=True).view(-1, 1)  # 1D spatial domain\n",
    "\n",
    "# Initialize the model, optimizer, and start training\n",
    "input_dim = 1\n",
    "hidden_dim = 20\n",
    "output_dim = 1\n",
    "model = DEMNet(input_dim, hidden_dim, output_dim)\n",
    "optimizer = optim.Adam(model.parameters(), lr=0.001)\n",
    "\n",
    "train(model, optimizer, x)"
   ]
  },
  {
   "cell_type": "code",
   "execution_count": null,
   "id": "d1006980-23f1-413d-bc11-643dd6e8863f",
   "metadata": {},
   "outputs": [],
   "source": []
  }
 ],
 "metadata": {
  "kernelspec": {
   "display_name": "Python 3 (ipykernel)",
   "language": "python",
   "name": "python3"
  },
  "language_info": {
   "codemirror_mode": {
    "name": "ipython",
    "version": 3
   },
   "file_extension": ".py",
   "mimetype": "text/x-python",
   "name": "python",
   "nbconvert_exporter": "python",
   "pygments_lexer": "ipython3",
   "version": "3.12.3"
  }
 },
 "nbformat": 4,
 "nbformat_minor": 5
}
