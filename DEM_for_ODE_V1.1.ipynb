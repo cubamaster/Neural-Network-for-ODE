{
 "cells": [
  {
   "cell_type": "code",
   "execution_count": 203,
   "id": "24c087e9-6e9d-4b15-bbd2-b6558b29abda",
   "metadata": {},
   "outputs": [],
   "source": [
    "import torch\n",
    "import torch.nn as nn\n",
    "import torch.optim as optim\n",
    "import numpy as np\n",
    "import matplotlib.pyplot as plt"
   ]
  },
  {
   "cell_type": "code",
   "execution_count": 204,
   "id": "d6e3fd35-bdce-49f6-9324-c22fcf76f085",
   "metadata": {},
   "outputs": [],
   "source": [
    "def energy_functional(x, y, dy_dx):\n",
    "    # Defines the energy functionalor aka the ODE/PDE based on the problem requirements. \n",
    "    # Here you can modify the functino yourself to match the energy function of your specific problem.\n",
    "    # Like as an examle, if it's elasticity, you can use function of strain energy\n",
    "    # Here, I defined a dummy function for simple demonstration.\n",
    "    return 0.5 * (dy_dx ** 2) - 0.5 *  (y ** 2)  # Example: strain energy with linear potential that I found online."
   ]
  },
  {
   "cell_type": "code",
   "execution_count": 205,
   "id": "adf32eed-1b93-4f03-b4db-7b019b8dc8f9",
   "metadata": {},
   "outputs": [],
   "source": [
    "x_range = (0.0, 10)  # Domain for the ODE\n",
    "initial_conditions = [\n",
    "    {'type': 'y', 'value': 1.0, 'x': 0.0},    # y(0) = 1\n",
    "    {'type': 'y\\'', 'value': 0.0, 'x': 0.0},  # y'(0) = 0\n",
    "]\n",
    "learning_rate = 0.001\n",
    "num_epochs = 2000"
   ]
  },
  {
   "cell_type": "code",
   "execution_count": 206,
   "id": "332c89ff-3081-46c7-864b-f88fd0e2a1f7",
   "metadata": {},
   "outputs": [],
   "source": [
    "class Network(nn.Module):\n",
    "    def __init__(self):\n",
    "        super(Network, self).__init__()\n",
    "        self.hidden_layer_1 = nn.Linear(1, 200)\n",
    "        self.hidden_layer_2 = nn.Linear(200, 200)\n",
    "        self.hidden_layer_3 = nn.Linear(200, 200)\n",
    "        self.hidden_layer_4 = nn.Linear(200, 200)\n",
    "        self.output_layer = nn.Linear(200, 1)\n",
    "\n",
    "    def forward(self, x):\n",
    "        x = torch.sin(self.hidden_layer_1(x))\n",
    "        x = torch.sin(self.hidden_layer_2(x))\n",
    "        x = torch.sin(self.hidden_layer_3(x))\n",
    "        x = self.output_layer(x)\n",
    "        return x"
   ]
  },
  {
   "cell_type": "code",
   "execution_count": 207,
   "id": "c11fd8d4-4d01-411a-9481-b6856039e593",
   "metadata": {},
   "outputs": [],
   "source": [
    "def compute_energy_integral(net, x_range, num_points=1000):\n",
    "    \"\"\"Compute the integral of the energy functional over the specified x range.\"\"\"\n",
    "    x_min, x_max = x_range\n",
    "    x = torch.linspace(x_min, x_max, num_points).view(-1, 1)\n",
    "    x.requires_grad = True  \n",
    "    \n",
    "    y_pred = net(x)\n",
    "    dy_dx_pred = torch.autograd.grad(y_pred, x, torch.ones_like(y_pred), create_graph=True)[0]\n",
    "    \n",
    "    energy_vals = energy_functional(x, y_pred, dy_dx_pred)\n",
    "    \n",
    "    integral = torch.mean(energy_vals) * (x_max - x_min)\n",
    "    return integral ** 2"
   ]
  },
  {
   "cell_type": "code",
   "execution_count": 208,
   "id": "9b05de4e-8545-4d0b-9378-32abdf08eaa5",
   "metadata": {},
   "outputs": [],
   "source": [
    "def apply_initial_conditions(net, initial_conditions):\n",
    "    ivp_residuals = []\n",
    "    for ivp in initial_conditions:\n",
    "        x_ivp = torch.tensor([[ivp['x']]], requires_grad=True)\n",
    "        y_ivp = net(x_ivp)\n",
    "        \n",
    "        if ivp['type'] == 'y':\n",
    "            ivp_residual = y_ivp - ivp['value']\n",
    "        elif ivp['type'] == 'y\\'':\n",
    "            dy_dx_ivp = torch.autograd.grad(y_ivp, x_ivp, torch.ones_like(x_ivp), create_graph=True)[0]\n",
    "            ivp_residual = dy_dx_ivp - ivp['value']\n",
    "        \n",
    "        ivp_residuals.append(ivp_residual ** 2)\n",
    "    \n",
    "    return torch.sum(torch.stack([ivp**2 for ivp in ivp_residuals]))"
   ]
  },
  {
   "cell_type": "code",
   "execution_count": 209,
   "id": "9622026a-25b0-4b1b-a02d-0dedcbca9713",
   "metadata": {},
   "outputs": [],
   "source": [
    "scheduler = optim.lr_scheduler.StepLR(optimizer, step_size=200, gamma=0.5)\n",
    "\n",
    "def train(net, optimizer, x_range, initial_conditions, num_epochs):\n",
    "    for epoch in range(num_epochs):\n",
    "        optimizer.zero_grad()\n",
    "\n",
    "        # Compute the energy integral\n",
    "        energy_integral = compute_energy_integral(net, x_range)\n",
    "\n",
    "        # Apply initial condition residuals as constraints\n",
    "        ivp_residual = apply_initial_conditions(net, initial_conditions)\n",
    "\n",
    "        # Total loss: Energy integral + initial condition penalty\n",
    "        loss = energy_integral + ivp_residual\n",
    "        loss.backward()\n",
    "        optimizer.step()\n",
    "        # scheduler.step()\n",
    "        if epoch % 100 == 0:\n",
    "            print(f'Epoch {epoch}, Loss: {loss.item()}')"
   ]
  },
  {
   "cell_type": "code",
   "execution_count": 210,
   "id": "90e20614-6e74-4638-8122-b2f27a2aa893",
   "metadata": {},
   "outputs": [],
   "source": [
    "net = Network()\n",
    "optimizer = optim.Adam(net.parameters(), lr=learning_rate, weight_decay=1e-5)\n",
    "\n",
    "# Initialize the learning rate scheduler\n",
    "step_size = 100  # Number of epochs after which to decay the learning rate\n",
    "gamma = 0.1      # Multiplicative factor of learning rate decay\n",
    "# scheduler = optim.lr_scheduler.StepLR(optimizer, step_size=step_size, gamma=gamma)\n",
    "# scheduler = optim.lr_scheduler.ReduceLROnPlateau(optimizer, mode='min', factor=0.5, patience=50, min_lr=1e-6)"
   ]
  },
  {
   "cell_type": "code",
   "execution_count": 211,
   "id": "8409d242-a6c3-4826-9753-b5ee6c28bd43",
   "metadata": {},
   "outputs": [
    {
     "name": "stdout",
     "output_type": "stream",
     "text": [
      "Epoch 0, Loss: 0.5663145184516907\n",
      "Epoch 100, Loss: 7.160544100770494e-06\n",
      "Epoch 200, Loss: 7.846809921829845e-07\n",
      "Epoch 300, Loss: 2.939320324912842e-07\n",
      "Epoch 400, Loss: 1.5119952934128378e-07\n",
      "Epoch 500, Loss: 9.56088683778944e-08\n",
      "Epoch 600, Loss: 6.997815660270135e-08\n",
      "Epoch 700, Loss: 5.699785532442547e-08\n",
      "Epoch 800, Loss: 5.0184567612632236e-08\n",
      "Epoch 900, Loss: 4.6701334355248036e-08\n",
      "Epoch 1000, Loss: 4.5133141668429744e-08\n",
      "Epoch 1100, Loss: 4.469707803878009e-08\n",
      "Epoch 1200, Loss: 4.490683380709015e-08\n",
      "Epoch 1300, Loss: 4.5456900465978833e-08\n",
      "Epoch 1400, Loss: 4.6145256504814824e-08\n",
      "Epoch 1500, Loss: 4.685335497356391e-08\n",
      "Epoch 1600, Loss: 4.7510123835081686e-08\n",
      "Epoch 1700, Loss: 4.8086292281368515e-08\n",
      "Epoch 1800, Loss: 4.858162228060792e-08\n",
      "Epoch 1900, Loss: 4.9014175829142914e-08\n"
     ]
    }
   ],
   "source": [
    "train(net, optimizer, x_range, initial_conditions, num_epochs)"
   ]
  },
  {
   "cell_type": "code",
   "execution_count": 212,
   "id": "e3f4af9f-ddb0-4922-b821-a819aba4d28e",
   "metadata": {},
   "outputs": [],
   "source": [
    "def visualize_solution(net, x_range):\n",
    "    x_min, x_max = x_range\n",
    "    x_values = np.linspace(x_min, x_max, 100)\n",
    "    x_tensor = torch.tensor(x_values, dtype=torch.float32).view(-1, 1)\n",
    "    y_pred = net(x_tensor).detach().numpy()\n",
    "\n",
    "    plt.plot(x_values, y_pred, label=\"DEM Solution\")\n",
    "    plt.xlabel(\"x\")\n",
    "    plt.ylabel(\"y(x)\")\n",
    "    plt.title(\"Solution of the Harmonic Oscillator via DEM\")\n",
    "    plt.legend()\n",
    "    plt.grid(True)\n",
    "    plt.show()"
   ]
  },
  {
   "cell_type": "code",
   "execution_count": 213,
   "id": "b64d5eb2-1913-4e71-aa52-4b201d417044",
   "metadata": {},
   "outputs": [
    {
     "data": {
      "image/png": "[encoded data removed]",
      "text/plain": [
       "<Figure size 640x480 with 1 Axes>"
      ]
     },
     "metadata": {},
     "output_type": "display_data"
    }
   ],
   "source": [
    "visualize_solution(net, x_range)"
   ]
  }
 ],
 "metadata": {
  "kernelspec": {
   "display_name": "Python 3 (ipykernel)",
   "language": "python",
   "name": "python3"
  },
  "language_info": {
   "codemirror_mode": {
    "name": "ipython",
    "version": 3
   },
   "file_extension": ".py",
   "mimetype": "text/x-python",
   "name": "python",
   "nbconvert_exporter": "python",
   "pygments_lexer": "ipython3",
   "version": "3.12.3"
  }
 },
 "nbformat": 4,
 "nbformat_minor": 5
}
